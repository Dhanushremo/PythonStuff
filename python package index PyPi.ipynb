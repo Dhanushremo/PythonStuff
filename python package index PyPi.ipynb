{
 "cells": [
  {
   "cell_type": "markdown",
   "id": "480df80d",
   "metadata": {},
   "source": [
    "# PyPi Using PyPi with pip Install!!\n",
    "\n",
    "*PyPi is a repository for open_source third-party python packages\n",
    "*its similar  to RubyGems in the Ruby World,PHP's packagist,CPAN for perl,and NPM for Node.js\n",
    "\n",
    "*so far we have really only used libraries that come internally with python.\n",
    "*there are many other libraries available that people have open_sourced and shared on PyPi\n",
    "*we can use pip install at the command line to install these packages!!\n",
    "*by installing python from python.org or through the anaconda distribution you also installed pip\n",
    "*pip is a simple way to download packages at your command line direcatly from the PyPi repository!!\n",
    "*there are packages already created for almost any use case you can think of!!\n",
    "*a quick google search will usually help you discover a llink to the PyPi page for the package,or for the package documentatiion!\n"
   ]
  }
 ],
 "metadata": {
  "kernelspec": {
   "display_name": "Python 3 (ipykernel)",
   "language": "python",
   "name": "python3"
  },
  "language_info": {
   "codemirror_mode": {
    "name": "ipython",
    "version": 3
   },
   "file_extension": ".py",
   "mimetype": "text/x-python",
   "name": "python",
   "nbconvert_exporter": "python",
   "pygments_lexer": "ipython3",
   "version": "3.11.5"
  }
 },
 "nbformat": 4,
 "nbformat_minor": 5
}
