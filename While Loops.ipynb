{
 "cells": [
  {
   "cell_type": "markdown",
   "id": "2f2feeb1",
   "metadata": {},
   "source": [
    "# while loop\n",
    "While loopa will continue to execute a block of code WHILE some condition remains True.\n",
    "For example, While my pool is not full, keep filling my pool wiht wate.\n",
    "\n",
    "or while my dogs are still hungry , keep feeding my dogs"
   ]
  },
  {
   "cell_type": "markdown",
   "id": "d265f354",
   "metadata": {},
   "source": [
    "syntax of a While Loop\n",
    "while some_boolean_condition:\n",
    "    #do something\n",
    "else:\n",
    "    #do something different"
   ]
  },
  {
   "cell_type": "code",
   "execution_count": 2,
   "id": "ebe728ce",
   "metadata": {},
   "outputs": [
    {
     "name": "stdout",
     "output_type": "stream",
     "text": [
      "The current value of x is0\n",
      "The current value of x is1\n",
      "The current value of x is2\n",
      "The current value of x is3\n",
      "The current value of x is4\n",
      "x is not less than 5\n"
     ]
    }
   ],
   "source": [
    "x = 0\n",
    "while x < 5:\n",
    "    print(f\"The current value of x is{x}\")\n",
    "    x +=1\n",
    "else:\n",
    "    print(\"x is not less than 5\")\n",
    "    "
   ]
  },
  {
   "cell_type": "code",
   "execution_count": 3,
   "id": "397b9b54",
   "metadata": {},
   "outputs": [
    {
     "name": "stdout",
     "output_type": "stream",
     "text": [
      "x is not less than 5\n"
     ]
    }
   ],
   "source": [
    "x = 50\n",
    "while x < 5:\n",
    "    print(f\"The current value of x is{x}\")\n",
    "    x +=1\n",
    "else:\n",
    "    print(\"x is not less than 5\")\n",
    "    "
   ]
  },
  {
   "cell_type": "code",
   "execution_count": 4,
   "id": "2a75f226",
   "metadata": {},
   "outputs": [],
   "source": [
    "x = 50\n",
    "while x < 5:\n",
    "    print(f\"The current value of x is{x}\")\n",
    "    x +=1\n",
    "\n",
    "    "
   ]
  },
  {
   "cell_type": "markdown",
   "id": "2112a8ed",
   "metadata": {},
   "source": [
    "# break , continue,pass\n",
    "we can use break,continue, and pass statements in our loops to add additional functionality for various cases.The three statements are defined by;\n",
    "break: Breaks out of the current closest enclosing loop.\n",
    "continue: goes to the top of the closest enclosing loop.\n",
    "pass:does nothing at all"
   ]
  },
  {
   "cell_type": "code",
   "execution_count": 5,
   "id": "11dca06d",
   "metadata": {},
   "outputs": [
    {
     "ename": "SyntaxError",
     "evalue": "incomplete input (1577218922.py, line 4)",
     "output_type": "error",
     "traceback": [
      "\u001b[1;36m  Cell \u001b[1;32mIn[5], line 4\u001b[1;36m\u001b[0m\n\u001b[1;33m    \u001b[0m\n\u001b[1;37m    ^\u001b[0m\n\u001b[1;31mSyntaxError\u001b[0m\u001b[1;31m:\u001b[0m incomplete input\n"
     ]
    }
   ],
   "source": [
    "list = [1,2,3,4,5,6,]\n",
    "for item in list:\n",
    "    #comment\n",
    "    "
   ]
  },
  {
   "cell_type": "code",
   "execution_count": 7,
   "id": "e2671f15",
   "metadata": {},
   "outputs": [
    {
     "name": "stdout",
     "output_type": "stream",
     "text": [
      "END OF MY SCRIPt\n"
     ]
    }
   ],
   "source": [
    "list = [1,2,3,4,5,6,7,8,9,10]\n",
    "for item in list:\n",
    "    pass\n",
    "print('END OF MY SCRIPt')"
   ]
  },
  {
   "cell_type": "code",
   "execution_count": 8,
   "id": "c3fa7116",
   "metadata": {},
   "outputs": [
    {
     "name": "stdout",
     "output_type": "stream",
     "text": [
      "H\n",
      "E\n",
      "L\n",
      "L\n",
      "O\n"
     ]
    }
   ],
   "source": [
    "mystring = 'HELLO'\n",
    "for item in mystring:\n",
    "    print(item)"
   ]
  },
  {
   "cell_type": "code",
   "execution_count": 15,
   "id": "b5399711",
   "metadata": {},
   "outputs": [
    {
     "name": "stdout",
     "output_type": "stream",
     "text": [
      "H\n",
      "L\n",
      "L\n",
      "O\n"
     ]
    }
   ],
   "source": [
    "mystring = 'HELLO'\n",
    "for item in mystring:\n",
    "    if item == 'E':\n",
    "        continue\n",
    "    print(item)"
   ]
  },
  {
   "cell_type": "code",
   "execution_count": 16,
   "id": "3985b54c",
   "metadata": {},
   "outputs": [
    {
     "name": "stdout",
     "output_type": "stream",
     "text": [
      "H\n"
     ]
    }
   ],
   "source": [
    "mystring = 'HELLO'\n",
    "for item in mystring:\n",
    "    if item == 'E':\n",
    "        break\n",
    "    print(item)"
   ]
  },
  {
   "cell_type": "code",
   "execution_count": 2,
   "id": "ba8cd960",
   "metadata": {},
   "outputs": [
    {
     "name": "stdout",
     "output_type": "stream",
     "text": [
      "D\n",
      "H\n",
      "A\n",
      "N\n",
      "U\n"
     ]
    }
   ],
   "source": [
    "my_string = \"DHANUSH\"\n",
    "for i in my_string:\n",
    "    if i == 'S':\n",
    "        break\n",
    "    print(i)"
   ]
  },
  {
   "cell_type": "code",
   "execution_count": 3,
   "id": "aafd7717",
   "metadata": {},
   "outputs": [
    {
     "name": "stdout",
     "output_type": "stream",
     "text": [
      "D\n",
      "H\n",
      "A\n",
      "N\n",
      "S\n",
      "H\n"
     ]
    }
   ],
   "source": [
    "hey = 'DHANSUH'\n",
    "for i in hey:\n",
    "    if i == 'U':\n",
    "        continue\n",
    "    print(i)"
   ]
  },
  {
   "cell_type": "code",
   "execution_count": 13,
   "id": "b9bf5a3c",
   "metadata": {},
   "outputs": [
    {
     "name": "stdout",
     "output_type": "stream",
     "text": [
      "enter a number0\n",
      "0\n",
      "1\n",
      "2\n"
     ]
    }
   ],
   "source": [
    "a = int(input(\"enter a number\"))\n",
    "while a<5:\n",
    "    if a == 3:\n",
    "        break\n",
    "    print(a)\n",
    "    a += 1"
   ]
  },
  {
   "cell_type": "code",
   "execution_count": null,
   "id": "61eeee41",
   "metadata": {},
   "outputs": [],
   "source": []
  },
  {
   "cell_type": "code",
   "execution_count": null,
   "id": "2955459c",
   "metadata": {},
   "outputs": [],
   "source": []
  }
 ],
 "metadata": {
  "kernelspec": {
   "display_name": "Python 3 (ipykernel)",
   "language": "python",
   "name": "python3"
  },
  "language_info": {
   "codemirror_mode": {
    "name": "ipython",
    "version": 3
   },
   "file_extension": ".py",
   "mimetype": "text/x-python",
   "name": "python",
   "nbconvert_exporter": "python",
   "pygments_lexer": "ipython3",
   "version": "3.11.5"
  }
 },
 "nbformat": 4,
 "nbformat_minor": 5
}
