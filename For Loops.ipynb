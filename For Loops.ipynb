{
 "cells": [
  {
   "cell_type": "markdown",
   "id": "876d14de",
   "metadata": {},
   "source": [
    "Many oobjects in python are \"ITERABLE\", meaning we can iterate over every element in object\n",
    "such as every element in a list or every character in a string..\n",
    "we can use for loops to execute a block of code for every situation\n",
    "The term ITERABLE means you can \"iterarte\" over the object.\n",
    " \n",
    " For example you can iterate over every character in a string , iterate over every item in a list,iterate over every key in a dictionary"
   ]
  },
  {
   "cell_type": "markdown",
   "id": "43703307",
   "metadata": {},
   "source": [
    "syntax of for loop\n",
    " varaible_name = [1,2,3,4,5]\n",
    " for place_holder in varaible_name:\n",
    "     print(place_holder)\n",
    "     \n",
    "  for my_iterable = [1,2,3,4,5]\n",
    "  for item_name in my_itearable:\n",
    "      print(item_name)"
   ]
  },
  {
   "cell_type": "code",
   "execution_count": 1,
   "id": "cc8890c1",
   "metadata": {},
   "outputs": [
    {
     "name": "stdout",
     "output_type": "stream",
     "text": [
      "1\n",
      "2\n",
      "3\n",
      "4\n",
      "5\n",
      "6\n",
      "7\n",
      "8\n",
      "9\n",
      "10\n"
     ]
    }
   ],
   "source": [
    "my_list = [1,2,3,4,5,6,7,8,9,10,]\n",
    "for item in my_list:\n",
    "    print(item)"
   ]
  },
  {
   "cell_type": "code",
   "execution_count": 2,
   "id": "b7f3ad84",
   "metadata": {},
   "outputs": [
    {
     "name": "stdout",
     "output_type": "stream",
     "text": [
      "1\n",
      "2\n",
      "3\n",
      "4\n",
      "5\n",
      "6\n",
      "7\n",
      "8\n",
      "9\n",
      "10\n"
     ]
    }
   ],
   "source": [
    "my_list = [1,2,3,4,5,6,7,8,9,10,]\n",
    "for hey in my_list:\n",
    "    print(hey)"
   ]
  },
  {
   "cell_type": "code",
   "execution_count": 3,
   "id": "b8f06781",
   "metadata": {},
   "outputs": [
    {
     "name": "stdout",
     "output_type": "stream",
     "text": [
      "HELLO FOR LOOP\n",
      "HELLO FOR LOOP\n",
      "HELLO FOR LOOP\n",
      "HELLO FOR LOOP\n",
      "HELLO FOR LOOP\n",
      "HELLO FOR LOOP\n",
      "HELLO FOR LOOP\n",
      "HELLO FOR LOOP\n",
      "HELLO FOR LOOP\n",
      "HELLO FOR LOOP\n"
     ]
    }
   ],
   "source": [
    "my_list = [1,2,3,4,5,6,7,8,9,10,]\n",
    "for item in my_list:\n",
    "    print(\"HELLO FOR LOOP\")"
   ]
  },
  {
   "cell_type": "code",
   "execution_count": 1,
   "id": "cd060e13",
   "metadata": {},
   "outputs": [
    {
     "name": "stdout",
     "output_type": "stream",
     "text": [
      "2\n",
      "4\n",
      "6\n",
      "8\n",
      "10\n"
     ]
    }
   ],
   "source": [
    "my_list = [1,2,3,4,5,6,7,8,9,10]\n",
    "for num in my_list:\n",
    "    if num %2==0:\n",
    "        print(num)"
   ]
  },
  {
   "cell_type": "code",
   "execution_count": 8,
   "id": "5b443fc9",
   "metadata": {},
   "outputs": [
    {
     "name": "stdout",
     "output_type": "stream",
     "text": [
      "the ODD number : 1\n",
      "the EVEN number : 2\n",
      "the ODD number : 3\n",
      "the EVEN number : 4\n",
      "the ODD number : 5\n",
      "the EVEN number : 6\n",
      "the ODD number : 7\n",
      "the EVEN number : 8\n",
      "the ODD number : 9\n",
      "the EVEN number : 10\n"
     ]
    }
   ],
   "source": [
    "my_list = [1,2,3,4,5,6,7,8,9,10]\n",
    "for num in my_list:\n",
    "    #check even or odd\n",
    "    if num %2 == 0:\n",
    "        print(f'the EVEN number : {num}')\n",
    "    else:\n",
    "        print('the ODD number : {a}'.format(a=num))\n",
    "    "
   ]
  },
  {
   "cell_type": "code",
   "execution_count": 22,
   "id": "55f561ef",
   "metadata": {},
   "outputs": [
    {
     "name": "stdout",
     "output_type": "stream",
     "text": [
      "55\n"
     ]
    }
   ],
   "source": [
    "my_sum = 0\n",
    "for num in my_list:\n",
    "    my_sum = my_sum + num\n",
    "    \n",
    "print(my_sum) #sum of list"
   ]
  },
  {
   "cell_type": "code",
   "execution_count": 24,
   "id": "1029468f",
   "metadata": {},
   "outputs": [
    {
     "name": "stdout",
     "output_type": "stream",
     "text": [
      "1\n",
      "3\n",
      "6\n",
      "10\n",
      "15\n",
      "21\n",
      "28\n",
      "36\n",
      "45\n",
      "55\n"
     ]
    }
   ],
   "source": [
    "my_sum = 0\n",
    "for num in my_list:\n",
    "    my_sum = my_sum + num\n",
    "    \n",
    "    print(my_sum)"
   ]
  },
  {
   "cell_type": "code",
   "execution_count": 18,
   "id": "bba5009a",
   "metadata": {},
   "outputs": [
    {
     "name": "stdout",
     "output_type": "stream",
     "text": [
      "H\n",
      "E\n",
      "L\n",
      "L\n",
      "O\n",
      " \n",
      "W\n",
      "O\n",
      "R\n",
      "L\n",
      "D\n"
     ]
    }
   ],
   "source": [
    "for letter in \"HELLO WORLD\":\n",
    "    print(letter)"
   ]
  },
  {
   "cell_type": "code",
   "execution_count": 19,
   "id": "8637a024",
   "metadata": {},
   "outputs": [
    {
     "name": "stdout",
     "output_type": "stream",
     "text": [
      "COOL!!\n",
      "COOL!!\n",
      "COOL!!\n",
      "COOL!!\n",
      "COOL!!\n",
      "COOL!!\n",
      "COOL!!\n",
      "COOL!!\n",
      "COOL!!\n",
      "COOL!!\n",
      "COOL!!\n"
     ]
    }
   ],
   "source": [
    "mystring = \"HELLO WOLRD\"\n",
    "for hey in mystring:\n",
    "    print(\"COOL!!\")"
   ]
  },
  {
   "cell_type": "code",
   "execution_count": 20,
   "id": "76b65533",
   "metadata": {},
   "outputs": [
    {
     "name": "stdout",
     "output_type": "stream",
     "text": [
      "H\n",
      "E\n",
      "L\n",
      "L\n",
      "O\n",
      " \n",
      "W\n",
      "O\n",
      "L\n",
      "R\n",
      "D\n"
     ]
    }
   ],
   "source": [
    "mystring = \"HELLO WOLRD\"\n",
    "for hey in mystring:\n",
    "    print(hey)"
   ]
  },
  {
   "cell_type": "code",
   "execution_count": 25,
   "id": "9a630ac9",
   "metadata": {},
   "outputs": [
    {
     "name": "stdout",
     "output_type": "stream",
     "text": [
      "1\n",
      "2\n",
      "3\n",
      "4\n",
      "5\n",
      "6\n",
      "7\n"
     ]
    }
   ],
   "source": [
    "tup = (1,2,3,4,5,6,7)\n",
    "for i in tup:\n",
    "    print(i)"
   ]
  },
  {
   "cell_type": "code",
   "execution_count": 27,
   "id": "9760cc53",
   "metadata": {},
   "outputs": [
    {
     "name": "stdout",
     "output_type": "stream",
     "text": [
      "(1, 2)\n",
      "(3, 4)\n",
      "(5, 6)\n"
     ]
    },
    {
     "data": {
      "text/plain": [
       "3"
      ]
     },
     "execution_count": 27,
     "metadata": {},
     "output_type": "execute_result"
    }
   ],
   "source": [
    "my_list = [(1,2),(3,4),(5,6)]\n",
    "for i in my_list:\n",
    "    print(i)\n",
    "len(my_list)"
   ]
  },
  {
   "cell_type": "code",
   "execution_count": 29,
   "id": "7214312a",
   "metadata": {},
   "outputs": [
    {
     "name": "stdout",
     "output_type": "stream",
     "text": [
      "1\n",
      "2\n",
      "3\n",
      "4\n",
      "5\n",
      "6\n"
     ]
    }
   ],
   "source": [
    "for (a,b) in my_list:\n",
    "    print(a)\n",
    "    print(b)   #tuple unpacking"
   ]
  },
  {
   "cell_type": "code",
   "execution_count": 30,
   "id": "0508f55b",
   "metadata": {},
   "outputs": [],
   "source": [
    "my_list = [(1,2,3),(1,2,3),(1,2,3)]"
   ]
  },
  {
   "cell_type": "code",
   "execution_count": 31,
   "id": "e0f37f70",
   "metadata": {},
   "outputs": [
    {
     "data": {
      "text/plain": [
       "[(1, 2, 3), (1, 2, 3), (1, 2, 3)]"
      ]
     },
     "execution_count": 31,
     "metadata": {},
     "output_type": "execute_result"
    }
   ],
   "source": [
    "my_list"
   ]
  },
  {
   "cell_type": "code",
   "execution_count": 32,
   "id": "713881c6",
   "metadata": {},
   "outputs": [
    {
     "name": "stdout",
     "output_type": "stream",
     "text": [
      "[(1, 2, 3), (1, 2, 3), (1, 2, 3)]\n",
      "[(1, 2, 3), (1, 2, 3), (1, 2, 3)]\n",
      "[(1, 2, 3), (1, 2, 3), (1, 2, 3)]\n"
     ]
    }
   ],
   "source": [
    "for i in my_list:\n",
    "    print(my_list)"
   ]
  },
  {
   "cell_type": "code",
   "execution_count": 36,
   "id": "b0ade0f9",
   "metadata": {},
   "outputs": [
    {
     "name": "stdout",
     "output_type": "stream",
     "text": [
      "3\n",
      "2\n",
      "1\n",
      "3\n",
      "2\n",
      "1\n",
      "3\n",
      "2\n",
      "1\n"
     ]
    }
   ],
   "source": [
    "for a,b,c in my_list:\n",
    "    print(c)\n",
    "    print(b)\n",
    "    print(a)"
   ]
  },
  {
   "cell_type": "code",
   "execution_count": 41,
   "id": "13d69d40",
   "metadata": {},
   "outputs": [
    {
     "name": "stdout",
     "output_type": "stream",
     "text": [
      "key1\n",
      "key2\n",
      "key3\n"
     ]
    }
   ],
   "source": [
    "dict = {'key1':1,'key2':2,'key3':3}\n",
    "for key,value in dict.items():\n",
    "    print(key) #unordered"
   ]
  },
  {
   "cell_type": "code",
   "execution_count": 42,
   "id": "1e4ad73b",
   "metadata": {},
   "outputs": [
    {
     "name": "stdout",
     "output_type": "stream",
     "text": [
      "1\n",
      "2\n",
      "3\n"
     ]
    }
   ],
   "source": [
    "dict = {'key1':1,'key2':2,'key3':3}\n",
    "for value in dict.values():\n",
    "    print(value) #unordered"
   ]
  },
  {
   "cell_type": "code",
   "execution_count": null,
   "id": "41f94ae9",
   "metadata": {},
   "outputs": [],
   "source": []
  }
 ],
 "metadata": {
  "kernelspec": {
   "display_name": "Python 3 (ipykernel)",
   "language": "python",
   "name": "python3"
  },
  "language_info": {
   "codemirror_mode": {
    "name": "ipython",
    "version": 3
   },
   "file_extension": ".py",
   "mimetype": "text/x-python",
   "name": "python",
   "nbconvert_exporter": "python",
   "pygments_lexer": "ipython3",
   "version": "3.11.5"
  }
 },
 "nbformat": 4,
 "nbformat_minor": 5
}
