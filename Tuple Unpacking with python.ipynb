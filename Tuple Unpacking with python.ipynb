{
 "cells": [
  {
   "cell_type": "markdown",
   "id": "235e4946",
   "metadata": {},
   "source": [
    "# Tuple unpacking"
   ]
  },
  {
   "cell_type": "code",
   "execution_count": 1,
   "id": "1a4a6575",
   "metadata": {},
   "outputs": [],
   "source": [
    "stock_prices = [('Apple',200),('GOOGLE',500),('msft',50)]"
   ]
  },
  {
   "cell_type": "code",
   "execution_count": 2,
   "id": "8c7e3c7f",
   "metadata": {},
   "outputs": [
    {
     "data": {
      "text/plain": [
       "[('Apple', 200), ('GOOGLE', 500), ('msft', 50)]"
      ]
     },
     "execution_count": 2,
     "metadata": {},
     "output_type": "execute_result"
    }
   ],
   "source": [
    "stock_prices"
   ]
  },
  {
   "cell_type": "code",
   "execution_count": 4,
   "id": "33b287ce",
   "metadata": {},
   "outputs": [
    {
     "name": "stdout",
     "output_type": "stream",
     "text": [
      "('Apple', 200)\n",
      "('GOOGLE', 500)\n",
      "('msft', 50)\n"
     ]
    }
   ],
   "source": [
    "for iteam in stock_prices:\n",
    "    print(iteam)"
   ]
  },
  {
   "cell_type": "code",
   "execution_count": 11,
   "id": "b5c0bd4d",
   "metadata": {},
   "outputs": [
    {
     "name": "stdout",
     "output_type": "stream",
     "text": [
      "Apple 200\n",
      "GOOGLE 500\n",
      "msft 50\n"
     ]
    }
   ],
   "source": [
    "for name,price in stock_prices:\n",
    "    print(name,price)"
   ]
  },
  {
   "cell_type": "code",
   "execution_count": 12,
   "id": "af983b54",
   "metadata": {},
   "outputs": [
    {
     "name": "stdout",
     "output_type": "stream",
     "text": [
      "220.0\n",
      "550.0\n",
      "55.0\n"
     ]
    }
   ],
   "source": [
    "for name,price in stock_prices:\n",
    "    print(price+(0.1\n",
    "            *price))"
   ]
  },
  {
   "cell_type": "code",
   "execution_count": 28,
   "id": "5014184b",
   "metadata": {},
   "outputs": [],
   "source": [
    "#Finding the highest salary in the tuple:-\n",
    "\n",
    "work_hours= [('Remo',10000),('Dhanush',100000),('JD',500)]\n"
   ]
  },
  {
   "cell_type": "code",
   "execution_count": 29,
   "id": "cde17f87",
   "metadata": {},
   "outputs": [
    {
     "data": {
      "text/plain": [
       "('Dhanush', 100000)"
      ]
     },
     "execution_count": 29,
     "metadata": {},
     "output_type": "execute_result"
    }
   ],
   "source": [
    "work_hours[1]"
   ]
  },
  {
   "cell_type": "code",
   "execution_count": 38,
   "id": "301ebb42",
   "metadata": {},
   "outputs": [],
   "source": [
    "def employee_check(work_hours):\n",
    "    current_max = 0\n",
    "    employee_of_month = ''\n",
    "    for employee,hours in work_hours:\n",
    "        if hours > current_max:\n",
    "            current_max = hours\n",
    "            employee_of_month = employee\n",
    "        else:\n",
    "            pass\n",
    "    return (employee_of_month,current_max)"
   ]
  },
  {
   "cell_type": "code",
   "execution_count": 41,
   "id": "b643f4e5",
   "metadata": {},
   "outputs": [],
   "source": [
    "name,price = employee_check(work_hours)"
   ]
  },
  {
   "cell_type": "code",
   "execution_count": 50,
   "id": "bffbb1f6",
   "metadata": {},
   "outputs": [
    {
     "name": "stdout",
     "output_type": "stream",
     "text": [
      "('Dhanush', 100000)\n"
     ]
    }
   ],
   "source": [
    "def employee_check_demo(work_hours):\n",
    "    current_hours = 0\n",
    "    employee_nam =''\n",
    "    for employee,hours in work_hours:\n",
    "        if hours > current_hours:\n",
    "            current_hours = hours\n",
    "            employee_nam = employee\n",
    "        else:\n",
    "            pass\n",
    "    return (employee_nam,current_hours)\n",
    "print(employee_check_demo(work_hours))"
   ]
  },
  {
   "cell_type": "code",
   "execution_count": 48,
   "id": "eda074a2",
   "metadata": {},
   "outputs": [
    {
     "data": {
      "text/plain": [
       "'Dhanush'"
      ]
     },
     "execution_count": 48,
     "metadata": {},
     "output_type": "execute_result"
    }
   ],
   "source": [
    "name"
   ]
  },
  {
   "cell_type": "code",
   "execution_count": 43,
   "id": "fa5fd3f1",
   "metadata": {},
   "outputs": [
    {
     "data": {
      "text/plain": [
       "100000"
      ]
     },
     "execution_count": 43,
     "metadata": {},
     "output_type": "execute_result"
    }
   ],
   "source": [
    "price"
   ]
  },
  {
   "cell_type": "code",
   "execution_count": 51,
   "id": "c87ecb63",
   "metadata": {},
   "outputs": [],
   "source": [
    "iteam = employee_check_demo(work_hours)"
   ]
  },
  {
   "cell_type": "code",
   "execution_count": 52,
   "id": "13869d66",
   "metadata": {},
   "outputs": [
    {
     "data": {
      "text/plain": [
       "('Dhanush', 100000)"
      ]
     },
     "execution_count": 52,
     "metadata": {},
     "output_type": "execute_result"
    }
   ],
   "source": [
    "iteam"
   ]
  },
  {
   "cell_type": "code",
   "execution_count": null,
   "id": "6c34b4e9",
   "metadata": {},
   "outputs": [],
   "source": []
  }
 ],
 "metadata": {
  "kernelspec": {
   "display_name": "Python 3 (ipykernel)",
   "language": "python",
   "name": "python3"
  },
  "language_info": {
   "codemirror_mode": {
    "name": "ipython",
    "version": 3
   },
   "file_extension": ".py",
   "mimetype": "text/x-python",
   "name": "python",
   "nbconvert_exporter": "python",
   "pygments_lexer": "ipython3",
   "version": "3.11.5"
  }
 },
 "nbformat": 4,
 "nbformat_minor": 5
}
