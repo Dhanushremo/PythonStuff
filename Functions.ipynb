{
 "cells": [
  {
   "cell_type": "markdown",
   "id": "1cbeafd6",
   "metadata": {},
   "source": [
    "# Functions\n",
    "creating clean repeatable code is a key part of becoming an effective programmer..\n",
    "*functions:-\n",
    "        ALLOW US TO CREATE BLOCKS OF CODE THAT CAN BE EASILY EXECUTED MANY TIMES, WITHOUT NEEDING TO CONSTANTLY REWRITE THE ENTIRE BLOCK OF CODE:-"
   ]
  },
  {
   "cell_type": "markdown",
   "id": "3730f713",
   "metadata": {},
   "source": [
    "Functiosn wil be an huge leap forward in your capabilites as a python programmer.\n",
    "this means that the problems your are able to slove can also  be a lot harder!!"
   ]
  },
  {
   "cell_type": "markdown",
   "id": "1d986872",
   "metadata": {},
   "source": [
    "it is very important to get practice combining everything you've learned so far(contol flow,loops, etc..) with funcions to become an effective programmer"
   ]
  },
  {
   "cell_type": "markdown",
   "id": "706e07a1",
   "metadata": {},
   "source": [
    "def name_of_function(): #def keyword tellling pyhton this is a function"
   ]
  },
  {
   "cell_type": "code",
   "execution_count": 2,
   "id": "1cd3bc38",
   "metadata": {},
   "outputs": [
    {
     "data": {
      "text/plain": [
       "'\\nDocstring explains function\\n'"
      ]
     },
     "execution_count": 2,
     "metadata": {},
     "output_type": "execute_result"
    }
   ],
   "source": [
    "'''\n",
    "Docstring explains function\n",
    "'''"
   ]
  },
  {
   "cell_type": "code",
   "execution_count": 3,
   "id": "52391c57",
   "metadata": {},
   "outputs": [
    {
     "name": "stdout",
     "output_type": "stream",
     "text": [
      "HELLO WORLD\n"
     ]
    }
   ],
   "source": [
    "def hello():\n",
    "    print('HELLO WORLD')\n",
    "hello()"
   ]
  },
  {
   "cell_type": "code",
   "execution_count": 8,
   "id": "47527257",
   "metadata": {},
   "outputs": [
    {
     "name": "stdout",
     "output_type": "stream",
     "text": [
      "hello Dhanush\n"
     ]
    }
   ],
   "source": [
    "def name(name):\n",
    "    print(\"hello \" + name)   #functions can accept arguments to be passed by the user\n",
    "name(\"Dhanush\")"
   ]
  },
  {
   "cell_type": "markdown",
   "id": "5164dc80",
   "metadata": {},
   "source": [
    " # return keyword\n",
    " typically we use the return keyword to send back the result of the function, instead of just printing out\n",
    " return allows us to assign the outpput of the function to a new varaible"
   ]
  },
  {
   "cell_type": "code",
   "execution_count": 12,
   "id": "988bdcdf",
   "metadata": {},
   "outputs": [],
   "source": [
    "def add(num1,num2):\n",
    "    return num1+num2 #return allows to save the result to a varaible\n",
    "result = add(1,2)"
   ]
  },
  {
   "cell_type": "code",
   "execution_count": 13,
   "id": "b14e524e",
   "metadata": {},
   "outputs": [
    {
     "data": {
      "text/plain": [
       "3"
      ]
     },
     "execution_count": 13,
     "metadata": {},
     "output_type": "execute_result"
    }
   ],
   "source": [
    "result"
   ]
  },
  {
   "cell_type": "code",
   "execution_count": null,
   "id": "c4b7f916",
   "metadata": {},
   "outputs": [],
   "source": []
  }
 ],
 "metadata": {
  "kernelspec": {
   "display_name": "Python 3 (ipykernel)",
   "language": "python",
   "name": "python3"
  },
  "language_info": {
   "codemirror_mode": {
    "name": "ipython",
    "version": 3
   },
   "file_extension": ".py",
   "mimetype": "text/x-python",
   "name": "python",
   "nbconvert_exporter": "python",
   "pygments_lexer": "ipython3",
   "version": "3.11.5"
  }
 },
 "nbformat": 4,
 "nbformat_minor": 5
}
