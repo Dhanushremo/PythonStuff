{
 "cells": [
  {
   "cell_type": "code",
   "execution_count": 1,
   "id": "c4f4a49b",
   "metadata": {},
   "outputs": [],
   "source": [
    "example = [1,2,3,4,5,6,7,8,9,10]"
   ]
  },
  {
   "cell_type": "code",
   "execution_count": 2,
   "id": "1a26e894",
   "metadata": {},
   "outputs": [],
   "source": [
    "from random import shuffle\n"
   ]
  },
  {
   "cell_type": "code",
   "execution_count": 3,
   "id": "1a434562",
   "metadata": {},
   "outputs": [],
   "source": [
    "shuffle(example)"
   ]
  },
  {
   "cell_type": "code",
   "execution_count": 4,
   "id": "09b28482",
   "metadata": {},
   "outputs": [
    {
     "data": {
      "text/plain": [
       "[7, 3, 5, 10, 4, 1, 8, 9, 2, 6]"
      ]
     },
     "execution_count": 4,
     "metadata": {},
     "output_type": "execute_result"
    }
   ],
   "source": [
    "example\n"
   ]
  },
  {
   "cell_type": "code",
   "execution_count": 5,
   "id": "f49cafcc",
   "metadata": {},
   "outputs": [],
   "source": [
    "def shuffle_list(mylist):\n",
    "    shuffle(mylist)\n",
    "    return mylist"
   ]
  },
  {
   "cell_type": "code",
   "execution_count": 6,
   "id": "43b1b7b5",
   "metadata": {},
   "outputs": [
    {
     "data": {
      "text/plain": [
       "[3, 10, 8, 7, 5, 2, 1, 6, 9, 4]"
      ]
     },
     "execution_count": 6,
     "metadata": {},
     "output_type": "execute_result"
    }
   ],
   "source": [
    "shuffle_list(example)"
   ]
  },
  {
   "cell_type": "code",
   "execution_count": 9,
   "id": "883b52d9",
   "metadata": {},
   "outputs": [],
   "source": [
    "result = shuffle_list(example)"
   ]
  },
  {
   "cell_type": "code",
   "execution_count": 10,
   "id": "947e7a20",
   "metadata": {},
   "outputs": [
    {
     "data": {
      "text/plain": [
       "[1, 4, 3, 9, 8, 7, 10, 6, 2, 5]"
      ]
     },
     "execution_count": 10,
     "metadata": {},
     "output_type": "execute_result"
    }
   ],
   "source": [
    "result"
   ]
  },
  {
   "cell_type": "code",
   "execution_count": 11,
   "id": "037ee577",
   "metadata": {},
   "outputs": [],
   "source": [
    "my_list = ['','RedBall','']"
   ]
  },
  {
   "cell_type": "code",
   "execution_count": 12,
   "id": "31935d27",
   "metadata": {},
   "outputs": [
    {
     "data": {
      "text/plain": [
       "['', '', 'RedBall']"
      ]
     },
     "execution_count": 12,
     "metadata": {},
     "output_type": "execute_result"
    }
   ],
   "source": [
    "shuffle_list(my_list)"
   ]
  },
  {
   "cell_type": "code",
   "execution_count": 20,
   "id": "14a169fa",
   "metadata": {},
   "outputs": [],
   "source": [
    "def player_guess():\n",
    "    guess=''\n",
    "    while guess not in ['0','1','2']:\n",
    "        guess = input(\"pic a number 0,1 or 2:-\")\n",
    "    else:\n",
    "        pass\n",
    "    return int(guess)"
   ]
  },
  {
   "cell_type": "code",
   "execution_count": 21,
   "id": "1867284b",
   "metadata": {},
   "outputs": [
    {
     "name": "stdout",
     "output_type": "stream",
     "text": [
      "pic a number 0,1 or 2:-10\n",
      "pic a number 0,1 or 2:-1\n"
     ]
    },
    {
     "data": {
      "text/plain": [
       "1"
      ]
     },
     "execution_count": 21,
     "metadata": {},
     "output_type": "execute_result"
    }
   ],
   "source": [
    "player_guess()"
   ]
  },
  {
   "cell_type": "code",
   "execution_count": 22,
   "id": "167b20cd",
   "metadata": {},
   "outputs": [
    {
     "name": "stdout",
     "output_type": "stream",
     "text": [
      "pic a number 0,1 or 2:-10\n",
      "pic a number 0,1 or 2:-1\n"
     ]
    }
   ],
   "source": [
    "index = player_guess()"
   ]
  },
  {
   "cell_type": "code",
   "execution_count": 23,
   "id": "4cf794f9",
   "metadata": {},
   "outputs": [
    {
     "data": {
      "text/plain": [
       "1"
      ]
     },
     "execution_count": 23,
     "metadata": {},
     "output_type": "execute_result"
    }
   ],
   "source": [
    "index"
   ]
  },
  {
   "cell_type": "code",
   "execution_count": 29,
   "id": "a9b4c5c0",
   "metadata": {},
   "outputs": [],
   "source": [
    "def check_guess(mylist,guess):\n",
    "    if mylist[guess] == 'RedBall':\n",
    "        print(\"Yeah Exactly Correct & The value was matched!!\")\n",
    "    else:\n",
    "        print(\"SOrry its not correct:----\")\n",
    "        return(mylist)"
   ]
  },
  {
   "cell_type": "code",
   "execution_count": 35,
   "id": "cad3da65",
   "metadata": {},
   "outputs": [
    {
     "name": "stdout",
     "output_type": "stream",
     "text": [
      "pic a number 0,1 or 2:-0\n",
      "Yeah Exactly Correct & The value was matched!!\n"
     ]
    }
   ],
   "source": [
    "#initail\n",
    "\n",
    "mylist = ['','RedBall','']\n",
    "\n",
    "#shuffle list\n",
    "mixedup_list = shuffle_list(mylist)\n",
    "\n",
    "\n",
    "\n",
    "\n",
    "#user guess\n",
    "\n",
    "guess = player_guess()\n",
    "\n",
    "\n",
    "#check guess\n",
    "check_guess(mixedup_list,guess)"
   ]
  },
  {
   "cell_type": "code",
   "execution_count": 1,
   "id": "91cc5286",
   "metadata": {},
   "outputs": [
    {
     "name": "stdout",
     "output_type": "stream",
     "text": [
      "csk\n"
     ]
    }
   ],
   "source": [
    "import random\n",
    "match1=['csk','rcb']\n",
    "winner=random.choice(match1)\n",
    "print(winner)"
   ]
  },
  {
   "cell_type": "code",
   "execution_count": 2,
   "id": "37f86db7",
   "metadata": {},
   "outputs": [
    {
     "name": "stdout",
     "output_type": "stream",
     "text": [
      "csk\n"
     ]
    }
   ],
   "source": [
    "import random\n",
    "match1=['csk','rcb']\n",
    "winner=random.choice(match1)\n",
    "print(winner)\n"
   ]
  },
  {
   "cell_type": "code",
   "execution_count": 3,
   "id": "662c9090",
   "metadata": {},
   "outputs": [
    {
     "name": "stdout",
     "output_type": "stream",
     "text": [
      "csk\n"
     ]
    }
   ],
   "source": [
    "import random\n",
    "match1=['csk','rcb']\n",
    "winner=random.choice(match1)\n",
    "print(winner)"
   ]
  },
  {
   "cell_type": "code",
   "execution_count": 4,
   "id": "02632902",
   "metadata": {},
   "outputs": [
    {
     "name": "stdout",
     "output_type": "stream",
     "text": [
      "csk\n"
     ]
    }
   ],
   "source": [
    "import random\n",
    "match1=['rcb','csk']\n",
    "winner=random.choice(match1)\n",
    "print(winner)"
   ]
  },
  {
   "cell_type": "code",
   "execution_count": 10,
   "id": "b3b9d8ab",
   "metadata": {},
   "outputs": [],
   "source": [
    "\n"
   ]
  },
  {
   "cell_type": "code",
   "execution_count": 9,
   "id": "a9206936",
   "metadata": {},
   "outputs": [],
   "source": []
  },
  {
   "cell_type": "code",
   "execution_count": null,
   "id": "33614f49",
   "metadata": {},
   "outputs": [],
   "source": []
  }
 ],
 "metadata": {
  "kernelspec": {
   "display_name": "Python 3 (ipykernel)",
   "language": "python",
   "name": "python3"
  },
  "language_info": {
   "codemirror_mode": {
    "name": "ipython",
    "version": 3
   },
   "file_extension": ".py",
   "mimetype": "text/x-python",
   "name": "python",
   "nbconvert_exporter": "python",
   "pygments_lexer": "ipython3",
   "version": "3.11.5"
  }
 },
 "nbformat": 4,
 "nbformat_minor": 5
}
