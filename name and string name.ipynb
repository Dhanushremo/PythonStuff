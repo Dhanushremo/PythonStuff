{
 "cells": [
  {
   "cell_type": "markdown",
   "id": "422add58",
   "metadata": {},
   "source": [
    "# __name__ and \"__main__\"\n",
    "\n",
    "an often confusing part of python is a mysterious line of code:\n",
    "        * if__name__==\"__main__\":\n",
    "        \n",
    "      * sometimes when you are importing from a module ,you would like to know whether a modules function is being used as an import, or if you are using the original.py file of that module..\n",
    "      "
   ]
  }
 ],
 "metadata": {
  "kernelspec": {
   "display_name": "Python 3 (ipykernel)",
   "language": "python",
   "name": "python3"
  },
  "language_info": {
   "codemirror_mode": {
    "name": "ipython",
    "version": 3
   },
   "file_extension": ".py",
   "mimetype": "text/x-python",
   "name": "python",
   "nbconvert_exporter": "python",
   "pygments_lexer": "ipython3",
   "version": "3.11.5"
  }
 },
 "nbformat": 4,
 "nbformat_minor": 5
}
