{
 "cells": [
  {
   "cell_type": "code",
   "execution_count": 20,
   "id": "8714073a",
   "metadata": {},
   "outputs": [],
   "source": [
    "class Dog():\n",
    "    \n",
    "    #class object\n",
    "    #same for any instance of a class!!\n",
    "    \n",
    "    special = 'mamal'\n",
    "    \n",
    "    def __init__(self,breed,name):\n",
    "        \n",
    "        #attributes\n",
    "        #we take in the argument\n",
    "        #assign it using self.attributte_name\n",
    "        \n",
    "        self.dog_breed = breed\n",
    "        self.dog_name = name\n",
    "        \n",
    "    #operations/actions -------------------->methods    \n",
    "    def bark(self,number):\n",
    "        print('woff! this is my dog name i.e {} and the number is {}'.format(self.dog_name,number))\n",
    "        "
   ]
  },
  {
   "cell_type": "code",
   "execution_count": 21,
   "id": "857b217a",
   "metadata": {},
   "outputs": [],
   "source": [
    "my_dog = Dog('lab','francies')"
   ]
  },
  {
   "cell_type": "code",
   "execution_count": 22,
   "id": "638d3050",
   "metadata": {},
   "outputs": [
    {
     "data": {
      "text/plain": [
       "'mamal'"
      ]
     },
     "execution_count": 22,
     "metadata": {},
     "output_type": "execute_result"
    }
   ],
   "source": [
    "my_dog.special"
   ]
  },
  {
   "cell_type": "code",
   "execution_count": 23,
   "id": "e246eb41",
   "metadata": {},
   "outputs": [
    {
     "data": {
      "text/plain": [
       "'lab'"
      ]
     },
     "execution_count": 23,
     "metadata": {},
     "output_type": "execute_result"
    }
   ],
   "source": [
    "my_dog.dog_breed"
   ]
  },
  {
   "cell_type": "code",
   "execution_count": 24,
   "id": "47dda94b",
   "metadata": {},
   "outputs": [
    {
     "data": {
      "text/plain": [
       "'francies'"
      ]
     },
     "execution_count": 24,
     "metadata": {},
     "output_type": "execute_result"
    }
   ],
   "source": [
    "my_dog.dog_name"
   ]
  },
  {
   "cell_type": "code",
   "execution_count": 25,
   "id": "62c6c945",
   "metadata": {},
   "outputs": [
    {
     "data": {
      "text/plain": [
       "<bound method Dog.bark of <__main__.Dog object at 0x0000028B009C0650>>"
      ]
     },
     "execution_count": 25,
     "metadata": {},
     "output_type": "execute_result"
    }
   ],
   "source": [
    "my_dog.bark"
   ]
  },
  {
   "cell_type": "code",
   "execution_count": 28,
   "id": "790326b2",
   "metadata": {},
   "outputs": [
    {
     "name": "stdout",
     "output_type": "stream",
     "text": [
      "woff! this is my dog name i.e francies and the number is 200\n"
     ]
    }
   ],
   "source": [
    "my_dog.bark(200)"
   ]
  },
  {
   "cell_type": "code",
   "execution_count": null,
   "id": "9f281caa",
   "metadata": {},
   "outputs": [],
   "source": []
  },
  {
   "cell_type": "code",
   "execution_count": null,
   "id": "6fdb3256",
   "metadata": {},
   "outputs": [],
   "source": []
  },
  {
   "cell_type": "code",
   "execution_count": 66,
   "id": "4c03028b",
   "metadata": {},
   "outputs": [],
   "source": [
    "class Circle():\n",
    "    \n",
    "    #class objet\n",
    "    #same for all instance class\n",
    "    \n",
    "    pi = 3.147\n",
    "    \n",
    "    def __init__(self,radius=1):\n",
    "        \n",
    "        self.circle_radius= radius\n",
    "        self.circle_area = radius*radius*Circle.pi\n",
    "        \n",
    "    def circumference(self):\n",
    "        return 2*self.pi*self.circle_radius\n",
    "    "
   ]
  },
  {
   "cell_type": "code",
   "execution_count": 67,
   "id": "2b51b019",
   "metadata": {},
   "outputs": [],
   "source": [
    "my_circle = Circle()"
   ]
  },
  {
   "cell_type": "code",
   "execution_count": 68,
   "id": "a10c1b1d",
   "metadata": {},
   "outputs": [
    {
     "data": {
      "text/plain": [
       "1"
      ]
     },
     "execution_count": 68,
     "metadata": {},
     "output_type": "execute_result"
    }
   ],
   "source": [
    "my_circle.circle_radius"
   ]
  },
  {
   "cell_type": "code",
   "execution_count": 69,
   "id": "05beed01",
   "metadata": {},
   "outputs": [
    {
     "data": {
      "text/plain": [
       "3.147"
      ]
     },
     "execution_count": 69,
     "metadata": {},
     "output_type": "execute_result"
    }
   ],
   "source": [
    "my_circle.circle_area"
   ]
  },
  {
   "cell_type": "code",
   "execution_count": 70,
   "id": "e8360778",
   "metadata": {},
   "outputs": [
    {
     "data": {
      "text/plain": [
       "3.147"
      ]
     },
     "execution_count": 70,
     "metadata": {},
     "output_type": "execute_result"
    }
   ],
   "source": [
    "my_circle.pi"
   ]
  },
  {
   "cell_type": "code",
   "execution_count": 71,
   "id": "ef240628",
   "metadata": {},
   "outputs": [
    {
     "data": {
      "text/plain": [
       "6.294"
      ]
     },
     "execution_count": 71,
     "metadata": {},
     "output_type": "execute_result"
    }
   ],
   "source": [
    "my_circle.circumference()"
   ]
  },
  {
   "cell_type": "code",
   "execution_count": 101,
   "id": "37fbfbf8",
   "metadata": {},
   "outputs": [],
   "source": [
    "class Rectangle():\n",
    "    lenth = 2\n",
    "    \n",
    "    def __init__(self,breath):\n",
    "        \n",
    "        self.rect_breath = breath\n",
    "        self.area = Rectangle.lenth * breath\n",
    "        \n",
    "    def area_1(self):\n",
    "        print ('AREA OF THE RECTANGLR IS {}'.format(self.area))"
   ]
  },
  {
   "cell_type": "code",
   "execution_count": 102,
   "id": "b8e85f7a",
   "metadata": {},
   "outputs": [],
   "source": [
    "my_rect = Rectangle(10)"
   ]
  },
  {
   "cell_type": "code",
   "execution_count": 103,
   "id": "3fb3f195",
   "metadata": {},
   "outputs": [
    {
     "data": {
      "text/plain": [
       "20"
      ]
     },
     "execution_count": 103,
     "metadata": {},
     "output_type": "execute_result"
    }
   ],
   "source": [
    "my_rect.area"
   ]
  },
  {
   "cell_type": "code",
   "execution_count": 104,
   "id": "9c3ef760",
   "metadata": {},
   "outputs": [
    {
     "data": {
      "text/plain": [
       "2"
      ]
     },
     "execution_count": 104,
     "metadata": {},
     "output_type": "execute_result"
    }
   ],
   "source": [
    "my_rect.lenth"
   ]
  },
  {
   "cell_type": "code",
   "execution_count": 105,
   "id": "f2d207d2",
   "metadata": {},
   "outputs": [
    {
     "data": {
      "text/plain": [
       "10"
      ]
     },
     "execution_count": 105,
     "metadata": {},
     "output_type": "execute_result"
    }
   ],
   "source": [
    "my_rect.rect_breath"
   ]
  },
  {
   "cell_type": "code",
   "execution_count": 106,
   "id": "72fb96ac",
   "metadata": {},
   "outputs": [
    {
     "name": "stdout",
     "output_type": "stream",
     "text": [
      "AREA OF THE RECTANGLR IS 20\n"
     ]
    }
   ],
   "source": [
    "my_rect.area_1()"
   ]
  },
  {
   "cell_type": "code",
   "execution_count": 1,
   "id": "6100ba25",
   "metadata": {},
   "outputs": [],
   "source": [
    "def Square():\n",
    "    \n",
    "    sq = 10\n",
    "    \n",
    "    def __init__(self,side):\n",
    "        \n",
    "        self.sq_side = side\n",
    "        self.area = Square.sq * Square.sq\n",
    "        \n",
    "        \n",
    "    def sq_area(self,number):\n",
    "        print('hey this is the {} and {} '.format(number,self.sq_side))\n",
    "        return self.area\n",
    "        \n",
    "    \n",
    "    \n",
    "    \n",
    "    \n",
    "    \n",
    "    \n",
    "    "
   ]
  },
  {
   "cell_type": "code",
   "execution_count": 7,
   "id": "f8f12c24",
   "metadata": {},
   "outputs": [
    {
     "ename": "TypeError",
     "evalue": "Square() takes 0 positional arguments but 1 was given",
     "output_type": "error",
     "traceback": [
      "\u001b[1;31m---------------------------------------------------------------------------\u001b[0m",
      "\u001b[1;31mTypeError\u001b[0m                                 Traceback (most recent call last)",
      "Cell \u001b[1;32mIn[7], line 1\u001b[0m\n\u001b[1;32m----> 1\u001b[0m my_sq \u001b[38;5;241m=\u001b[39m Square(\u001b[38;5;241m5\u001b[39m)\n",
      "\u001b[1;31mTypeError\u001b[0m: Square() takes 0 positional arguments but 1 was given"
     ]
    }
   ],
   "source": [
    "my_sq = Square(5)"
   ]
  },
  {
   "cell_type": "code",
   "execution_count": 8,
   "id": "8b0cf2ee",
   "metadata": {},
   "outputs": [
    {
     "ename": "AttributeError",
     "evalue": "'NoneType' object has no attribute 'sq_side'",
     "output_type": "error",
     "traceback": [
      "\u001b[1;31m---------------------------------------------------------------------------\u001b[0m",
      "\u001b[1;31mAttributeError\u001b[0m                            Traceback (most recent call last)",
      "Cell \u001b[1;32mIn[8], line 1\u001b[0m\n\u001b[1;32m----> 1\u001b[0m my_sq\u001b[38;5;241m.\u001b[39msq_side\n",
      "\u001b[1;31mAttributeError\u001b[0m: 'NoneType' object has no attribute 'sq_side'"
     ]
    }
   ],
   "source": [
    "my_sq.sq_side"
   ]
  },
  {
   "cell_type": "code",
   "execution_count": 9,
   "id": "9430a13a",
   "metadata": {},
   "outputs": [
    {
     "name": "stdout",
     "output_type": "stream",
     "text": [
      "Hey, this is the 10 and 5 \n",
      "100\n"
     ]
    }
   ],
   "source": [
    "class Square:\n",
    "    \n",
    "    sq = 10  # Class variable\n",
    "    \n",
    "    def __init__(self, side):\n",
    "        self.sq_side = side\n",
    "        self.area = self.sq * self.sq  # Access class variable with self\n",
    "    \n",
    "    def sq_area(self, number):\n",
    "        print('Hey, this is the {} and {} '.format(number, self.sq_side))\n",
    "        return self.area\n",
    "\n",
    "# Example usage\n",
    "square_object = Square(5)\n",
    "print(square_object.sq_area(10))\n"
   ]
  },
  {
   "cell_type": "code",
   "execution_count": null,
   "id": "80241aa8",
   "metadata": {},
   "outputs": [],
   "source": []
  }
 ],
 "metadata": {
  "kernelspec": {
   "display_name": "Python 3 (ipykernel)",
   "language": "python",
   "name": "python3"
  },
  "language_info": {
   "codemirror_mode": {
    "name": "ipython",
    "version": 3
   },
   "file_extension": ".py",
   "mimetype": "text/x-python",
   "name": "python",
   "nbconvert_exporter": "python",
   "pygments_lexer": "ipython3",
   "version": "3.11.5"
  }
 },
 "nbformat": 4,
 "nbformat_minor": 5
}
