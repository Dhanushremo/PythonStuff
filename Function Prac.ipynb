{
 "cells": [
  {
   "cell_type": "code",
   "execution_count": 2,
   "id": "693aab5c",
   "metadata": {},
   "outputs": [],
   "source": [
    "#LESSER OF TWO EVENS: Write a function that returns the lesser of two given numbers if both numbers are even, but returns the greater if one or both numbers are odd\n",
    "#lesser_of_two_evens(2,4) --> 2\n",
    "#lesser_of_two_evens(2,5) --> 5\n",
    "\n",
    "\n",
    "def myfun(a,b):\n",
    "    if a%2==0 and b%2==0:\n",
    "        if a<b:\n",
    "            return a\n",
    "        else:\n",
    "            return b\n",
    "    else:\n",
    "        if a>b:\n",
    "            return a\n",
    "        else:\n",
    "            return b\n",
    "    return \n",
    "    "
   ]
  },
  {
   "cell_type": "code",
   "execution_count": 4,
   "id": "c0145039",
   "metadata": {},
   "outputs": [
    {
     "data": {
      "text/plain": [
       "2"
      ]
     },
     "execution_count": 4,
     "metadata": {},
     "output_type": "execute_result"
    }
   ],
   "source": [
    "myfun(2,4) #lesser of two given even numbers"
   ]
  },
  {
   "cell_type": "code",
   "execution_count": 5,
   "id": "5571a70a",
   "metadata": {},
   "outputs": [
    {
     "data": {
      "text/plain": [
       "3"
      ]
     },
     "execution_count": 5,
     "metadata": {},
     "output_type": "execute_result"
    }
   ],
   "source": [
    "myfun(1,3) #greater of two given odd numbers"
   ]
  },
  {
   "cell_type": "code",
   "execution_count": 15,
   "id": "77daf708",
   "metadata": {},
   "outputs": [],
   "source": [
    "#ANIMAL CRACKERS: Write a function takes a two-word string and returns True if both words begin with same letter\n",
    "#animal_crackers('Levelheaded Llama') --> True\n",
    "#animal_crackers('Crazy Kangaroo') --> False\n",
    "\n",
    "def fun(a,b):\n",
    "    if a[0]==b[0]:\n",
    "        return True\n",
    "    else:\n",
    "        return False"
   ]
  },
  {
   "cell_type": "code",
   "execution_count": null,
   "id": "ae1372ca",
   "metadata": {},
   "outputs": [],
   "source": []
  },
  {
   "cell_type": "code",
   "execution_count": 16,
   "id": "fac68ccd",
   "metadata": {},
   "outputs": [
    {
     "data": {
      "text/plain": [
       "True"
      ]
     },
     "execution_count": 16,
     "metadata": {},
     "output_type": "execute_result"
    }
   ],
   "source": [
    "fun('hai','hai')"
   ]
  },
  {
   "cell_type": "code",
   "execution_count": 17,
   "id": "630aef23",
   "metadata": {},
   "outputs": [
    {
     "data": {
      "text/plain": [
       "False"
      ]
     },
     "execution_count": 17,
     "metadata": {},
     "output_type": "execute_result"
    }
   ],
   "source": [
    "fun('Hi','hi')"
   ]
  },
  {
   "cell_type": "code",
   "execution_count": 23,
   "id": "f36fdc56",
   "metadata": {},
   "outputs": [],
   "source": [
    "#MAKES TWENTY: Given two integers, return True if the sum of the integers is 20 or if one of the integers is 20. If not, return False\n",
    "#makes_twenty(20,10) --> True\n",
    "#makes_twenty(12,8) --> True\n",
    "#makes_twenty(2,3) --> False\n",
    "\n",
    "def myfun(a,b):\n",
    "    if a+b==20 or a==20 or b==20:\n",
    "        return True\n",
    "    else:\n",
    "        return False"
   ]
  },
  {
   "cell_type": "code",
   "execution_count": 24,
   "id": "8447acdf",
   "metadata": {},
   "outputs": [
    {
     "data": {
      "text/plain": [
       "True"
      ]
     },
     "execution_count": 24,
     "metadata": {},
     "output_type": "execute_result"
    }
   ],
   "source": [
    "myfun(20,1)"
   ]
  },
  {
   "cell_type": "code",
   "execution_count": 25,
   "id": "f7f4d90c",
   "metadata": {},
   "outputs": [
    {
     "data": {
      "text/plain": [
       "True"
      ]
     },
     "execution_count": 25,
     "metadata": {},
     "output_type": "execute_result"
    }
   ],
   "source": [
    "myfun(10,10)"
   ]
  },
  {
   "cell_type": "code",
   "execution_count": 26,
   "id": "0fce96b3",
   "metadata": {},
   "outputs": [
    {
     "data": {
      "text/plain": [
       "False"
      ]
     },
     "execution_count": 26,
     "metadata": {},
     "output_type": "execute_result"
    }
   ],
   "source": [
    "myfun(1,2)"
   ]
  },
  {
   "cell_type": "code",
   "execution_count": 35,
   "id": "8a08e011",
   "metadata": {},
   "outputs": [],
   "source": [
    "#LEVEL 1 PROBLEMS\n",
    "#OLD MACDONALD: Write a function that capitalizes the first and fourth letters of a name\n",
    " \n",
    "#old_macdonald('macdonald') --> MacDonald\n",
    "#Note: 'macdonald'.capitalize() returns 'Macdonald'\n",
    "def my_fun(name):\n",
    "    if len(name) > 3:\n",
    "        return name[:3].capitalize() + name[3:].capitalize()\n",
    "    else:\n",
    "        return 'Name is too short!'"
   ]
  },
  {
   "cell_type": "code",
   "execution_count": 36,
   "id": "6cefb14a",
   "metadata": {},
   "outputs": [
    {
     "data": {
      "text/plain": [
       "'DhaNush'"
      ]
     },
     "execution_count": 36,
     "metadata": {},
     "output_type": "execute_result"
    }
   ],
   "source": [
    "my_fun('dhanush')"
   ]
  },
  {
   "cell_type": "code",
   "execution_count": 44,
   "id": "94bb7751",
   "metadata": {},
   "outputs": [],
   "source": [
    "#MASTER YODA: Given a sentence, return a sentence with the words reversed\n",
    "#master_yoda('I am home') --> 'home am I'\n",
    "#master_yoda('We are ready') --> 'ready are We' \n",
    "\n",
    "def helo(name):\n",
    "    return ' '.join(name.split())[::-1]"
   ]
  },
  {
   "cell_type": "code",
   "execution_count": 45,
   "id": "8852763f",
   "metadata": {},
   "outputs": [
    {
     "data": {
      "text/plain": [
       "'ih oleh'"
      ]
     },
     "execution_count": 45,
     "metadata": {},
     "output_type": "execute_result"
    }
   ],
   "source": [
    "helo(\"helo hi\")"
   ]
  },
  {
   "cell_type": "code",
   "execution_count": 60,
   "id": "6796ea57",
   "metadata": {},
   "outputs": [],
   "source": [
    "#ALMOST THERE: Given an integer n, return True if n is within 10 of either 100 or 200\n",
    "#almost_there(90) --> True\n",
    "#almost_there(104) --> True\n",
    "#almost_there(150) --> False\n",
    "#almost_there(209) --> True\n",
    "\n",
    "def helo(n):\n",
    "    return ((abs(100 - n) <= 10) or (abs(200 - n) <= 10))"
   ]
  },
  {
   "cell_type": "code",
   "execution_count": 61,
   "id": "ffa10237",
   "metadata": {},
   "outputs": [
    {
     "data": {
      "text/plain": [
       "True"
      ]
     },
     "execution_count": 61,
     "metadata": {},
     "output_type": "execute_result"
    }
   ],
   "source": [
    "helo(90)"
   ]
  },
  {
   "cell_type": "code",
   "execution_count": 62,
   "id": "2643ed33",
   "metadata": {},
   "outputs": [
    {
     "data": {
      "text/plain": [
       "True"
      ]
     },
     "execution_count": 62,
     "metadata": {},
     "output_type": "execute_result"
    }
   ],
   "source": [
    "helo (104)"
   ]
  },
  {
   "cell_type": "code",
   "execution_count": 63,
   "id": "b5766f5f",
   "metadata": {},
   "outputs": [
    {
     "data": {
      "text/plain": [
       "False"
      ]
     },
     "execution_count": 63,
     "metadata": {},
     "output_type": "execute_result"
    }
   ],
   "source": [
    "helo(150)"
   ]
  },
  {
   "cell_type": "code",
   "execution_count": null,
   "id": "202ec4b3",
   "metadata": {},
   "outputs": [],
   "source": []
  }
 ],
 "metadata": {
  "kernelspec": {
   "display_name": "Python 3 (ipykernel)",
   "language": "python",
   "name": "python3"
  },
  "language_info": {
   "codemirror_mode": {
    "name": "ipython",
    "version": 3
   },
   "file_extension": ".py",
   "mimetype": "text/x-python",
   "name": "python",
   "nbconvert_exporter": "python",
   "pygments_lexer": "ipython3",
   "version": "3.11.5"
  }
 },
 "nbformat": 4,
 "nbformat_minor": 5
}
