{
 "cells": [
  {
   "cell_type": "code",
   "execution_count": 1,
   "id": "a8347ccb",
   "metadata": {},
   "outputs": [],
   "source": [
    "x = 25\n",
    "\n",
    "def printer():\n",
    "    \n",
    "    x = 50\n",
    "    return x"
   ]
  },
  {
   "cell_type": "code",
   "execution_count": 2,
   "id": "fb82df30",
   "metadata": {},
   "outputs": [
    {
     "name": "stdout",
     "output_type": "stream",
     "text": [
      "25\n"
     ]
    }
   ],
   "source": [
    "print(x)"
   ]
  },
  {
   "cell_type": "code",
   "execution_count": 3,
   "id": "08f35159",
   "metadata": {},
   "outputs": [
    {
     "data": {
      "text/plain": [
       "50"
      ]
     },
     "execution_count": 3,
     "metadata": {},
     "output_type": "execute_result"
    }
   ],
   "source": [
    "printer()"
   ]
  },
  {
   "cell_type": "markdown",
   "id": "c91c20f1",
   "metadata": {},
   "source": [
    "# LEGB\n",
    "\n",
    "L:-Local-Names assinged in any way within a function (def or lambda).. and not declared global in that function\n",
    "E:-Enclosing fucntion locals-Names in the local scope of any and all enclosing functions(def or lambda), from inner or out\n",
    "G::Global (module)- Names assinged at the top-level of a module file, or declared global in a def within in file\n",
    "B:-Built-in python-names preassigned in the built-in names module:open,range,syntax error\n",
    "\n"
   ]
  },
  {
   "cell_type": "code",
   "execution_count": 1,
   "id": "5778c1b5",
   "metadata": {},
   "outputs": [
    {
     "data": {
      "text/plain": [
       "<function __main__.<lambda>(x)>"
      ]
     },
     "execution_count": 1,
     "metadata": {},
     "output_type": "execute_result"
    }
   ],
   "source": [
    "lambda x:x**2"
   ]
  },
  {
   "cell_type": "code",
   "execution_count": 2,
   "id": "02af3da2",
   "metadata": {},
   "outputs": [],
   "source": [
    "my_num = [1,2,3,4,5,6,7,8,]"
   ]
  },
  {
   "cell_type": "code",
   "execution_count": 3,
   "id": "93415cd2",
   "metadata": {},
   "outputs": [
    {
     "data": {
      "text/plain": [
       "[1, 4, 9, 16, 25, 36, 49, 64]"
      ]
     },
     "execution_count": 3,
     "metadata": {},
     "output_type": "execute_result"
    }
   ],
   "source": [
    "list(map(lambda x:x**2,my_num))"
   ]
  },
  {
   "cell_type": "code",
   "execution_count": 18,
   "id": "e6023187",
   "metadata": {},
   "outputs": [],
   "source": [
    "#global\n",
    "name ='HAI THIS IS DHANUSH'\n",
    "def helo():\n",
    "    #enclosing\n",
    "    name ='Hey'\n",
    "    \n",
    "    def hai():\n",
    "        #local\n",
    "        name = 'Remoo'\n",
    "        print('Heloo '+name)\n",
    "        \n",
    "    hai()"
   ]
  },
  {
   "cell_type": "code",
   "execution_count": 19,
   "id": "5bd52c2d",
   "metadata": {},
   "outputs": [
    {
     "name": "stdout",
     "output_type": "stream",
     "text": [
      "Heloo Remoo\n"
     ]
    }
   ],
   "source": [
    "helo()"
   ]
  },
  {
   "cell_type": "code",
   "execution_count": 22,
   "id": "5ff2d958",
   "metadata": {},
   "outputs": [
    {
     "name": "stdout",
     "output_type": "stream",
     "text": [
      "Help on built-in function len in module builtins:\n",
      "\n",
      "len(obj, /)\n",
      "    Return the number of items in a container.\n",
      "\n"
     ]
    }
   ],
   "source": [
    "help(len )"
   ]
  },
  {
   "cell_type": "code",
   "execution_count": 27,
   "id": "f522fd6b",
   "metadata": {},
   "outputs": [],
   "source": [
    "x=50\n",
    "def fun(x):\n",
    "    print('x is {}'.format(x))\n",
    "    \n",
    "    #local re-assingment\n",
    "    x= 200\n",
    "    print(f'I JUST LOCALLY CHANGED X TO {x}')\n",
    "    "
   ]
  },
  {
   "cell_type": "code",
   "execution_count": 28,
   "id": "3f25b339",
   "metadata": {},
   "outputs": [
    {
     "name": "stdout",
     "output_type": "stream",
     "text": [
      "x is 50\n",
      "I JUST LOCALLY CHANGED X TO 200\n"
     ]
    }
   ],
   "source": [
    "fun(x)"
   ]
  },
  {
   "cell_type": "code",
   "execution_count": 29,
   "id": "a468364e",
   "metadata": {},
   "outputs": [
    {
     "name": "stdout",
     "output_type": "stream",
     "text": [
      "50\n"
     ]
    }
   ],
   "source": [
    "print(x)"
   ]
  },
  {
   "cell_type": "code",
   "execution_count": 37,
   "id": "d40cee8b",
   "metadata": {},
   "outputs": [],
   "source": [
    "x = 50\n",
    "def fun2():\n",
    "    global x\n",
    "    print(f'x is {x}')\n",
    "    \n",
    "    #local re-assingment on a global variable\n",
    "    x = 'New value'\n",
    "    \n",
    "    print('I JUST LOCALLY CHANGED GLOBALLY X TO {} '.format(x))\n",
    "    return x"
   ]
  },
  {
   "cell_type": "code",
   "execution_count": 38,
   "id": "eb2f267b",
   "metadata": {},
   "outputs": [
    {
     "name": "stdout",
     "output_type": "stream",
     "text": [
      "50\n"
     ]
    }
   ],
   "source": [
    "print(x)"
   ]
  },
  {
   "cell_type": "code",
   "execution_count": 39,
   "id": "832b3507",
   "metadata": {},
   "outputs": [
    {
     "name": "stdout",
     "output_type": "stream",
     "text": [
      "x is 50\n",
      "I JUST LOCALLY CHANGED GLOBALLY X TO New value \n"
     ]
    },
    {
     "data": {
      "text/plain": [
       "'New value'"
      ]
     },
     "execution_count": 39,
     "metadata": {},
     "output_type": "execute_result"
    }
   ],
   "source": [
    "fun2()"
   ]
  },
  {
   "cell_type": "code",
   "execution_count": null,
   "id": "c9c73161",
   "metadata": {},
   "outputs": [],
   "source": []
  },
  {
   "cell_type": "code",
   "execution_count": null,
   "id": "5efa5fa0",
   "metadata": {},
   "outputs": [],
   "source": []
  }
 ],
 "metadata": {
  "kernelspec": {
   "display_name": "Python 3 (ipykernel)",
   "language": "python",
   "name": "python3"
  },
  "language_info": {
   "codemirror_mode": {
    "name": "ipython",
    "version": 3
   },
   "file_extension": ".py",
   "mimetype": "text/x-python",
   "name": "python",
   "nbconvert_exporter": "python",
   "pygments_lexer": "ipython3",
   "version": "3.11.5"
  }
 },
 "nbformat": 4,
 "nbformat_minor": 5
}
