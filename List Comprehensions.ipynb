{
 "cells": [
  {
   "cell_type": "markdown",
   "id": "12c5defe",
   "metadata": {},
   "source": [
    "# List comprehensions\n",
    "List comprehensions are a unique way of quickly creating a list in a python"
   ]
  },
  {
   "cell_type": "code",
   "execution_count": 9,
   "id": "09402e2a",
   "metadata": {},
   "outputs": [
    {
     "name": "stdout",
     "output_type": "stream",
     "text": [
      "['D', 'H', 'A', 'N', 'U', 'S', 'H']\n"
     ]
    }
   ],
   "source": [
    "my_string = 'DHANUSH'\n",
    "my_list= []\n",
    "for iteam in my_string :\n",
    "    my_list.append(iteam)\n",
    "print(my_list)\n",
    "    "
   ]
  },
  {
   "cell_type": "code",
   "execution_count": 13,
   "id": "e4b07b41",
   "metadata": {},
   "outputs": [],
   "source": [
    "mylist= [letter for letter in my_string]"
   ]
  },
  {
   "cell_type": "code",
   "execution_count": 14,
   "id": "e4bbddda",
   "metadata": {},
   "outputs": [
    {
     "data": {
      "text/plain": [
       "['D', 'H', 'A', 'N', 'U', 'S', 'H']"
      ]
     },
     "execution_count": 14,
     "metadata": {},
     "output_type": "execute_result"
    }
   ],
   "source": [
    "mylist"
   ]
  },
  {
   "cell_type": "code",
   "execution_count": 15,
   "id": "23b087a8",
   "metadata": {},
   "outputs": [],
   "source": [
    "mylist= [x for x in 'WORD']"
   ]
  },
  {
   "cell_type": "code",
   "execution_count": 16,
   "id": "c1359a57",
   "metadata": {},
   "outputs": [
    {
     "data": {
      "text/plain": [
       "['W', 'O', 'R', 'D']"
      ]
     },
     "execution_count": 16,
     "metadata": {},
     "output_type": "execute_result"
    }
   ],
   "source": [
    "mylist"
   ]
  },
  {
   "cell_type": "code",
   "execution_count": 17,
   "id": "9021b43d",
   "metadata": {},
   "outputs": [],
   "source": [
    "mylist = [num for num in range(0,11)]"
   ]
  },
  {
   "cell_type": "code",
   "execution_count": 18,
   "id": "7c359a0a",
   "metadata": {},
   "outputs": [
    {
     "data": {
      "text/plain": [
       "[0, 1, 2, 3, 4, 5, 6, 7, 8, 9, 10]"
      ]
     },
     "execution_count": 18,
     "metadata": {},
     "output_type": "execute_result"
    }
   ],
   "source": [
    "mylist"
   ]
  },
  {
   "cell_type": "code",
   "execution_count": 19,
   "id": "1ca66f5a",
   "metadata": {},
   "outputs": [],
   "source": [
    "mylist = [num**2 for num in range(0,11)]"
   ]
  },
  {
   "cell_type": "code",
   "execution_count": 21,
   "id": "a9017202",
   "metadata": {},
   "outputs": [
    {
     "data": {
      "text/plain": [
       "[0, 1, 4, 9, 16, 25, 36, 49, 64, 81, 100]"
      ]
     },
     "execution_count": 21,
     "metadata": {},
     "output_type": "execute_result"
    }
   ],
   "source": [
    "mylist"
   ]
  },
  {
   "cell_type": "code",
   "execution_count": 24,
   "id": "5024cf08",
   "metadata": {},
   "outputs": [],
   "source": [
    "mylist = [ num**2 for num in range(0,11) if num%2==0]"
   ]
  },
  {
   "cell_type": "code",
   "execution_count": 25,
   "id": "28075945",
   "metadata": {},
   "outputs": [
    {
     "data": {
      "text/plain": [
       "[0, 4, 16, 36, 64, 100]"
      ]
     },
     "execution_count": 25,
     "metadata": {},
     "output_type": "execute_result"
    }
   ],
   "source": [
    "mylist"
   ]
  },
  {
   "cell_type": "code",
   "execution_count": 27,
   "id": "87bae065",
   "metadata": {},
   "outputs": [],
   "source": [
    "celcius = [0,10,20,34,5]\n",
    "fahrenhit = [((9/5)*temp + 32) for temp in celcius]"
   ]
  },
  {
   "cell_type": "code",
   "execution_count": 28,
   "id": "039d905c",
   "metadata": {},
   "outputs": [
    {
     "data": {
      "text/plain": [
       "[32.0, 50.0, 68.0, 93.2, 41.0]"
      ]
     },
     "execution_count": 28,
     "metadata": {},
     "output_type": "execute_result"
    }
   ],
   "source": [
    "fahrenhit"
   ]
  },
  {
   "cell_type": "code",
   "execution_count": 29,
   "id": "315919df",
   "metadata": {},
   "outputs": [
    {
     "name": "stdout",
     "output_type": "stream",
     "text": [
      "[32.0, 50.0, 68.0, 93.2, 41.0]\n"
     ]
    }
   ],
   "source": [
    "fahrenhit = []\n",
    "for temp in celcius:\n",
    "    fahrenhit.append((9/5)*temp + 32)\n",
    "print(fahrenhit)"
   ]
  },
  {
   "cell_type": "code",
   "execution_count": 36,
   "id": "8408780f",
   "metadata": {},
   "outputs": [],
   "source": [
    "results = [x**2 if x%2==0 else 'odd' for x in range(0,11)]"
   ]
  },
  {
   "cell_type": "code",
   "execution_count": 37,
   "id": "cc4a16b0",
   "metadata": {},
   "outputs": [
    {
     "data": {
      "text/plain": [
       "[0, 'odd', 4, 'odd', 16, 'odd', 36, 'odd', 64, 'odd', 100]"
      ]
     },
     "execution_count": 37,
     "metadata": {},
     "output_type": "execute_result"
    }
   ],
   "source": [
    "results"
   ]
  },
  {
   "cell_type": "markdown",
   "id": "b92ef91d",
   "metadata": {},
   "source": [
    "# nested loops"
   ]
  },
  {
   "cell_type": "code",
   "execution_count": 32,
   "id": "9a001a06",
   "metadata": {},
   "outputs": [],
   "source": [
    "mylist = []\n",
    "for x in [2,3,6]:\n",
    "    for y in [100,200,300]:\n",
    "        mylist.append(x*y)"
   ]
  },
  {
   "cell_type": "code",
   "execution_count": 33,
   "id": "33838041",
   "metadata": {},
   "outputs": [
    {
     "data": {
      "text/plain": [
       "[200, 400, 600, 300, 600, 900, 600, 1200, 1800]"
      ]
     },
     "execution_count": 33,
     "metadata": {},
     "output_type": "execute_result"
    }
   ],
   "source": [
    "mylist"
   ]
  },
  {
   "cell_type": "code",
   "execution_count": 34,
   "id": "4539bda0",
   "metadata": {},
   "outputs": [],
   "source": [
    "mylist = [x*y for x in [2,4,6] for y in [ 1,10,1000]]"
   ]
  },
  {
   "cell_type": "code",
   "execution_count": 35,
   "id": "e1b8620e",
   "metadata": {},
   "outputs": [
    {
     "data": {
      "text/plain": [
       "[2, 20, 2000, 4, 40, 4000, 6, 60, 6000]"
      ]
     },
     "execution_count": 35,
     "metadata": {},
     "output_type": "execute_result"
    }
   ],
   "source": [
    "mylist"
   ]
  },
  {
   "cell_type": "code",
   "execution_count": 1,
   "id": "0619b501",
   "metadata": {},
   "outputs": [
    {
     "name": "stdout",
     "output_type": "stream",
     "text": [
      "[1, 4, 8]\n"
     ]
    }
   ],
   "source": [
    "t = (1,2,4,3,8,9)\n",
    "print([t[i] for i in range(0,len(t),2)])"
   ]
  },
  {
   "cell_type": "code",
   "execution_count": null,
   "id": "cca8c2bc",
   "metadata": {},
   "outputs": [],
   "source": []
  }
 ],
 "metadata": {
  "kernelspec": {
   "display_name": "Python 3 (ipykernel)",
   "language": "python",
   "name": "python3"
  },
  "language_info": {
   "codemirror_mode": {
    "name": "ipython",
    "version": 3
   },
   "file_extension": ".py",
   "mimetype": "text/x-python",
   "name": "python",
   "nbconvert_exporter": "python",
   "pygments_lexer": "ipython3",
   "version": "3.11.5"
  }
 },
 "nbformat": 4,
 "nbformat_minor": 5
}
