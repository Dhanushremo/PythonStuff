{
 "cells": [
  {
   "cell_type": "code",
   "execution_count": 24,
   "id": "16181bfe",
   "metadata": {},
   "outputs": [],
   "source": [
    "#Fill in the Line class methods to accept coordinates as a pair of tuples and return the slope and distance of the line.\n",
    "\n",
    "class Line:\n",
    "    \n",
    "    def __init__(self,coor1,coor2):\n",
    "        self.coor1 = coor1\n",
    "        self.coor2 = coor2\n",
    "        \n",
    "    \n",
    "    def distance(self):\n",
    "        x1,y1 = self.coor1\n",
    "        x2,y2 = self.coor2\n",
    "        return ((x2-x1)**2 + (y2-y1)**2) **0.5\n",
    "    \n",
    "    def slope(self):\n",
    "        \n",
    "        #elf.x1 = self.coor1\n",
    "       #self.y1 = self.coor1\n",
    "       #self.x2 = self.coor2\n",
    "       #self.y2 = self.coor2\n",
    "        x1,y1 = self.coor1\n",
    "        x2,y2 = self.coor2\n",
    "        return (y2-y1)/(x2 - x1)\n",
    "                        \n",
    "                        \n",
    "                        \n",
    "                        \n",
    "                        \n",
    "                        \n",
    "                        \n",
    "                        \n",
    "                        "
   ]
  },
  {
   "cell_type": "code",
   "execution_count": 25,
   "id": "5088539a",
   "metadata": {},
   "outputs": [],
   "source": [
    "c1 = (3,2)\n",
    "c2 = (8,10)"
   ]
  },
  {
   "cell_type": "code",
   "execution_count": 26,
   "id": "bac2ef11",
   "metadata": {},
   "outputs": [],
   "source": [
    "myline = Line(c1,c2)"
   ]
  },
  {
   "cell_type": "code",
   "execution_count": 27,
   "id": "b903b0ac",
   "metadata": {},
   "outputs": [
    {
     "data": {
      "text/plain": [
       "9.433981132056603"
      ]
     },
     "execution_count": 27,
     "metadata": {},
     "output_type": "execute_result"
    }
   ],
   "source": [
    "myline.distance()"
   ]
  },
  {
   "cell_type": "code",
   "execution_count": 28,
   "id": "ba821a96",
   "metadata": {},
   "outputs": [
    {
     "data": {
      "text/plain": [
       "1.6"
      ]
     },
     "execution_count": 28,
     "metadata": {},
     "output_type": "execute_result"
    }
   ],
   "source": [
    "myline.slope()"
   ]
  },
  {
   "cell_type": "code",
   "execution_count": 29,
   "id": "a88c97ce",
   "metadata": {},
   "outputs": [],
   "source": [
    "class Cylinder:\n",
    "    \n",
    "    def __init__(self,height=1,radius=1):\n",
    "        self.height = height\n",
    "        self.radius =  radius\n",
    "        \n",
    "    def volume(self):\n",
    "        \n",
    "        return  3.14*(self.radius)**2*self.height\n",
    "    \n",
    "    def surface_area(self):\n",
    "        return 2*3.14*self.radius*self.height + 2*3.15*self.radius**2"
   ]
  },
  {
   "cell_type": "code",
   "execution_count": 30,
   "id": "3913c4b7",
   "metadata": {},
   "outputs": [],
   "source": [
    "mycl = Cylinder(2,3)"
   ]
  },
  {
   "cell_type": "code",
   "execution_count": 32,
   "id": "7c28f42d",
   "metadata": {},
   "outputs": [
    {
     "data": {
      "text/plain": [
       "56.52"
      ]
     },
     "execution_count": 32,
     "metadata": {},
     "output_type": "execute_result"
    }
   ],
   "source": [
    "mycl.volume()"
   ]
  },
  {
   "cell_type": "code",
   "execution_count": 33,
   "id": "6bd82331",
   "metadata": {},
   "outputs": [
    {
     "data": {
      "text/plain": [
       "94.38"
      ]
     },
     "execution_count": 33,
     "metadata": {},
     "output_type": "execute_result"
    }
   ],
   "source": [
    "mycl.surface_area()"
   ]
  },
  {
   "cell_type": "code",
   "execution_count": 38,
   "id": "1edda1e4",
   "metadata": {},
   "outputs": [],
   "source": [
    "\n",
    "class Value():\n",
    "    \n",
    "    def __init__(self,values):\n",
    "        self.values = values\n",
    "        \n",
    "    def add_to_values(self,amount):\n",
    "        self.values = self.values + amount\n",
    "        print('hey your amount {} added to your values'.format(amount))\n",
    "    "
   ]
  },
  {
   "cell_type": "code",
   "execution_count": 40,
   "id": "759a4f8a",
   "metadata": {},
   "outputs": [],
   "source": [
    "myvalue = Value(100)"
   ]
  },
  {
   "cell_type": "code",
   "execution_count": 41,
   "id": "432ce3ad",
   "metadata": {},
   "outputs": [
    {
     "data": {
      "text/plain": [
       "100"
      ]
     },
     "execution_count": 41,
     "metadata": {},
     "output_type": "execute_result"
    }
   ],
   "source": [
    "myvalue.values"
   ]
  },
  {
   "cell_type": "code",
   "execution_count": 42,
   "id": "5d49d7ce",
   "metadata": {},
   "outputs": [
    {
     "name": "stdout",
     "output_type": "stream",
     "text": [
      "hey your amount 300 added to your values\n"
     ]
    }
   ],
   "source": [
    "myvalue.add_to_values(300)"
   ]
  },
  {
   "cell_type": "code",
   "execution_count": 43,
   "id": "df4bc6a0",
   "metadata": {},
   "outputs": [
    {
     "data": {
      "text/plain": [
       "400"
      ]
     },
     "execution_count": 43,
     "metadata": {},
     "output_type": "execute_result"
    }
   ],
   "source": [
    "myvalue.values"
   ]
  },
  {
   "cell_type": "markdown",
   "id": "427765c7",
   "metadata": {},
   "source": [
    "\n",
    "Object Oriented Programming Challenge\n",
    "For this challenge, create a bank account class that has two attributes:\n",
    "\n",
    "owner\n",
    "balance\n",
    "and two methods:\n",
    "\n",
    "deposit\n",
    "withdraw\n",
    "As an added requirement, withdrawals may not exceed the available balance.\n",
    "\n",
    "Instantiate your class, make several deposits and withdrawals, and test to make sure the account can't be overdrawn.\n",
    "\n",
    "class Account:\n",
    "    pass\n",
    "# 1. Instantiate the class\n",
    "acct1 = Account('Jose',100)"
   ]
  },
  {
   "cell_type": "code",
   "execution_count": 62,
   "id": "0c88b23b",
   "metadata": {},
   "outputs": [],
   "source": [
    "class Account:\n",
    "    \n",
    "    def __init__(self,owner,balance=0):\n",
    "        self.owner = owner\n",
    "        self.balance = balance\n",
    "        \n",
    "    def deposite(self,dpt_amt):\n",
    "        self.balance = self.balance + dpt_amt\n",
    "        print(f'hey your amount {dpt_amt} is added to your account')\n",
    "        \n",
    "    def withdraw(self,wt_draw):\n",
    "        \n",
    "        if self.balance >= wt_draw:\n",
    "            print('your {} withdraw acceptable!!'.format(wt_draw))\n",
    "        else:\n",
    "            print('hey there is no funds in the bank aaccount!1')\n",
    "            \n",
    "    def __str__(self):\n",
    "        return f'ONWER {self.owner} \\nBalance {self.balance}'"
   ]
  },
  {
   "cell_type": "code",
   "execution_count": 63,
   "id": "c8bd0326",
   "metadata": {},
   "outputs": [],
   "source": [
    "# 1. Instantiate the class\n",
    "#acct1 = Account('Jose',100)\n",
    "a = Account('Dhanush',1000)"
   ]
  },
  {
   "cell_type": "code",
   "execution_count": 64,
   "id": "f222cde9",
   "metadata": {},
   "outputs": [
    {
     "name": "stdout",
     "output_type": "stream",
     "text": [
      "ONWER Dhanush \n",
      "Balance 1000\n"
     ]
    }
   ],
   "source": [
    "# 2. Print the object\n",
    "#print(acct1)\n",
    "print(a)"
   ]
  },
  {
   "cell_type": "code",
   "execution_count": 65,
   "id": "7cd44729",
   "metadata": {},
   "outputs": [
    {
     "data": {
      "text/plain": [
       "'Dhanush'"
      ]
     },
     "execution_count": 65,
     "metadata": {},
     "output_type": "execute_result"
    }
   ],
   "source": [
    "\n",
    "# 3. Show the account owner attribute\n",
    "#acct1.owner\n",
    "\n",
    "a.owner"
   ]
  },
  {
   "cell_type": "code",
   "execution_count": 66,
   "id": "29baadc8",
   "metadata": {},
   "outputs": [
    {
     "data": {
      "text/plain": [
       "1000"
      ]
     },
     "execution_count": 66,
     "metadata": {},
     "output_type": "execute_result"
    }
   ],
   "source": [
    "# 4. Show the account balance attribute\n",
    "#acct1.balance\n",
    "\n",
    "a.balance"
   ]
  },
  {
   "cell_type": "code",
   "execution_count": 67,
   "id": "2ba7e75b",
   "metadata": {},
   "outputs": [
    {
     "name": "stdout",
     "output_type": "stream",
     "text": [
      "hey your amount 100 is added to your account\n"
     ]
    }
   ],
   "source": [
    "\n",
    "# 5. Make a series of deposits and withdrawals\n",
    "#acct1.deposit(50)\n",
    "\n",
    "a.deposite(100)"
   ]
  },
  {
   "cell_type": "code",
   "execution_count": 68,
   "id": "1a51dbd5",
   "metadata": {},
   "outputs": [
    {
     "name": "stdout",
     "output_type": "stream",
     "text": [
      "your 500 withdraw acceptable!!\n"
     ]
    }
   ],
   "source": [
    "#acct1.withdraw(75)\n",
    "\n",
    "a.withdraw(500)"
   ]
  },
  {
   "cell_type": "code",
   "execution_count": 69,
   "id": "42fa1854",
   "metadata": {},
   "outputs": [
    {
     "name": "stdout",
     "output_type": "stream",
     "text": [
      "your 1000 withdraw acceptable!!\n"
     ]
    }
   ],
   "source": [
    "a.withdraw(1000)"
   ]
  },
  {
   "cell_type": "code",
   "execution_count": null,
   "id": "f52d664a",
   "metadata": {},
   "outputs": [],
   "source": []
  }
 ],
 "metadata": {
  "kernelspec": {
   "display_name": "Python 3 (ipykernel)",
   "language": "python",
   "name": "python3"
  },
  "language_info": {
   "codemirror_mode": {
    "name": "ipython",
    "version": 3
   },
   "file_extension": ".py",
   "mimetype": "text/x-python",
   "name": "python",
   "nbconvert_exporter": "python",
   "pygments_lexer": "ipython3",
   "version": "3.11.5"
  }
 },
 "nbformat": 4,
 "nbformat_minor": 5
}
