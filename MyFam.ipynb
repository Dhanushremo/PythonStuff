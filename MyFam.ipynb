{
 "cells": [
  {
   "cell_type": "code",
   "execution_count": 12,
   "id": "49b4913e",
   "metadata": {},
   "outputs": [
    {
     "name": "stdout",
     "output_type": "stream",
     "text": [
      "GUNASEKHAR\n",
      "--------\n",
      "SUMALATHA\n",
      "--------\n",
      "RAMYSREE\n",
      "--------\n",
      "THANUSREE\n",
      "--------\n",
      "ANANDHAMMA\n",
      "--------\n",
      "SURESH\n",
      "--------\n",
      "KAVITHA\n",
      "--------\n",
      "TIM KEVIN\n",
      "--------\n",
      "RICHELLE\n",
      "--------\n",
      "VENKSTESH\n",
      "--------\n",
      "DURGA\n",
      "--------\n",
      "RITHVIK\n",
      "--------\n",
      "SAPPU@HARDIK\n",
      "--------\n",
      "GUNASEKHAR\n",
      "--------\n",
      "SUMALATHA\n",
      "--------\n",
      "RAMYSREE\n",
      "--------\n",
      "THANUSREE\n",
      "--------\n",
      "ANANDHAMMA\n",
      "--------\n",
      "SURESH\n",
      "--------\n",
      "KAVITHA\n",
      "--------\n",
      "TIM KEVIN\n",
      "--------\n",
      "RICHELLE\n",
      "--------\n",
      "VENKSTESH\n",
      "--------\n",
      "DURGA\n",
      "--------\n",
      "RITHVIK\n",
      "--------\n",
      "SAPPU@HARDIK\n",
      "--------\n"
     ]
    }
   ],
   "source": [
    "for every_iteam in range(2):\n",
    "    print(\"GUNASEKHAR\")\n",
    "    print(\"--------\")\n",
    "    print(\"SUMALATHA\")\n",
    "    print(\"--------\")\n",
    "    print(\"RAMYSREE\")\n",
    "    print(\"--------\")\n",
    "    print(\"THANUSREE\")\n",
    "    print(\"--------\")\n",
    "    \n",
    "    print(\"ANANDHAMMA\")\n",
    "    print(\"--------\")\n",
    "    print(\"SURESH\")\n",
    "    print(\"--------\")\n",
    "    print(\"KAVITHA\")\n",
    "    print(\"--------\")\n",
    "    print(\"TIM KEVIN\")\n",
    "    print(\"--------\")\n",
    "    print(\"RICHELLE\")\n",
    "    print(\"--------\")\n",
    "    print(\"VENKSTESH\")\n",
    "    print(\"--------\")\n",
    "    print(\"DURGA\")\n",
    "    print(\"--------\")\n",
    "    print(\"RITHVIK\")\n",
    "    print(\"--------\")\n",
    "    print(\"SAPPU@HARDIK\")\n",
    "    print(\"--------\")"
   ]
  },
  {
   "cell_type": "code",
   "execution_count": null,
   "id": "d8b20610",
   "metadata": {},
   "outputs": [],
   "source": []
  }
 ],
 "metadata": {
  "kernelspec": {
   "display_name": "Python 3 (ipykernel)",
   "language": "python",
   "name": "python3"
  },
  "language_info": {
   "codemirror_mode": {
    "name": "ipython",
    "version": 3
   },
   "file_extension": ".py",
   "mimetype": "text/x-python",
   "name": "python",
   "nbconvert_exporter": "python",
   "pygments_lexer": "ipython3",
   "version": "3.11.5"
  }
 },
 "nbformat": 4,
 "nbformat_minor": 5
}
