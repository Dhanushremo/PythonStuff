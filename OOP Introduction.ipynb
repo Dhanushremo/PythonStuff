{
 "cells": [
  {
   "cell_type": "markdown",
   "id": "f9154fb1",
   "metadata": {},
   "source": [
    "#OBJECT ORIENTED PROGRAMMING"
   ]
  },
  {
   "cell_type": "markdown",
   "id": "a931d9b7",
   "metadata": {},
   "source": [
    "object oriented programming allows programmers to create their own objects that have methods and attributes..\n",
    "oop allows userss to create their own objects....\n",
    "\n",
    "\n",
    "syntax:--\n",
    "        class NameOfClass():#camalcase!!\n",
    "            \n",
    "            def __init__(self,param1,param2): __init__ methods create instance of object!\n",
    "                self.param1 = param1\n",
    "                self.param1 = param1\n",
    "                \n",
    "            def some_method(self):\n",
    "                #perform some aaction\n",
    "             print(self.param1)"
   ]
  },
  {
   "cell_type": "code",
   "execution_count": 1,
   "id": "61af3916",
   "metadata": {},
   "outputs": [],
   "source": [
    "mylist = [1,2,3]"
   ]
  },
  {
   "cell_type": "code",
   "execution_count": 2,
   "id": "066807b9",
   "metadata": {},
   "outputs": [],
   "source": [
    "myset = set()"
   ]
  },
  {
   "cell_type": "code",
   "execution_count": 3,
   "id": "92e475e4",
   "metadata": {},
   "outputs": [
    {
     "data": {
      "text/plain": [
       "set"
      ]
     },
     "execution_count": 3,
     "metadata": {},
     "output_type": "execute_result"
    }
   ],
   "source": [
    "type(myset)"
   ]
  },
  {
   "cell_type": "code",
   "execution_count": 4,
   "id": "9b03d19b",
   "metadata": {},
   "outputs": [
    {
     "data": {
      "text/plain": [
       "list"
      ]
     },
     "execution_count": 4,
     "metadata": {},
     "output_type": "execute_result"
    }
   ],
   "source": [
    "type(mylist)"
   ]
  },
  {
   "cell_type": "code",
   "execution_count": 5,
   "id": "f289317e",
   "metadata": {},
   "outputs": [],
   "source": [
    "#user defined object is class\n",
    "class Sample():\n",
    "    pass"
   ]
  },
  {
   "cell_type": "code",
   "execution_count": 7,
   "id": "b9921d09",
   "metadata": {},
   "outputs": [
    {
     "data": {
      "text/plain": [
       "__main__.Sample"
      ]
     },
     "execution_count": 7,
     "metadata": {},
     "output_type": "execute_result"
    }
   ],
   "source": [
    "type(Sample())"
   ]
  },
  {
   "cell_type": "code",
   "execution_count": 12,
   "id": "31c2884a",
   "metadata": {},
   "outputs": [],
   "source": [
    "class Dog():\n",
    "    \n",
    "    def __init__(self,breed): #self keyword connects to the instance of the class\n",
    "        \n",
    "        #attributes\n",
    "        #we take in the argument\n",
    "        #assing it using self.attributr_name\n",
    "        \n",
    "        self.hai = breed"
   ]
  },
  {
   "cell_type": "code",
   "execution_count": 15,
   "id": "261a142b",
   "metadata": {},
   "outputs": [],
   "source": [
    "my_dog = Dog(breed='LAB')"
   ]
  },
  {
   "cell_type": "code",
   "execution_count": 16,
   "id": "4238db07",
   "metadata": {},
   "outputs": [
    {
     "data": {
      "text/plain": [
       "<__main__.Dog at 0x1d9e78301d0>"
      ]
     },
     "execution_count": 16,
     "metadata": {},
     "output_type": "execute_result"
    }
   ],
   "source": [
    "my_dog"
   ]
  },
  {
   "cell_type": "code",
   "execution_count": 17,
   "id": "df2b2380",
   "metadata": {},
   "outputs": [
    {
     "data": {
      "text/plain": [
       "__main__.Dog"
      ]
     },
     "execution_count": 17,
     "metadata": {},
     "output_type": "execute_result"
    }
   ],
   "source": [
    "type(my_dog)"
   ]
  },
  {
   "cell_type": "code",
   "execution_count": 18,
   "id": "4b53ad63",
   "metadata": {},
   "outputs": [
    {
     "data": {
      "text/plain": [
       "'LAB'"
      ]
     },
     "execution_count": 18,
     "metadata": {},
     "output_type": "execute_result"
    }
   ],
   "source": [
    "my_dog.hai"
   ]
  },
  {
   "cell_type": "code",
   "execution_count": 19,
   "id": "b1a5ea1b",
   "metadata": {},
   "outputs": [],
   "source": [
    "class Helo():\n",
    "    \n",
    "    def __init__(self,hai):\n",
    "        \n",
    "        self.helo = hai"
   ]
  },
  {
   "cell_type": "code",
   "execution_count": 20,
   "id": "c731d001",
   "metadata": {},
   "outputs": [],
   "source": [
    "hey = Helo(hai='Welcome')"
   ]
  },
  {
   "cell_type": "code",
   "execution_count": 21,
   "id": "1b951e10",
   "metadata": {},
   "outputs": [
    {
     "data": {
      "text/plain": [
       "'Welcome'"
      ]
     },
     "execution_count": 21,
     "metadata": {},
     "output_type": "execute_result"
    }
   ],
   "source": [
    "hey.helo"
   ]
  },
  {
   "cell_type": "code",
   "execution_count": 22,
   "id": "00b38bfd",
   "metadata": {},
   "outputs": [],
   "source": [
    "class Cat():\n",
    "    \n",
    "    def __init__(self,breed,name,spots):\n",
    "        \n",
    "        self.breed = breed\n",
    "        self.name = name\n",
    "        self.spots = spots"
   ]
  },
  {
   "cell_type": "code",
   "execution_count": 23,
   "id": "7185b512",
   "metadata": {},
   "outputs": [],
   "source": [
    "my_cat=Cat('LAB','CUTIEE',False)"
   ]
  },
  {
   "cell_type": "code",
   "execution_count": 24,
   "id": "1392907e",
   "metadata": {},
   "outputs": [
    {
     "data": {
      "text/plain": [
       "'LAB'"
      ]
     },
     "execution_count": 24,
     "metadata": {},
     "output_type": "execute_result"
    }
   ],
   "source": [
    "my_cat.breed"
   ]
  },
  {
   "cell_type": "code",
   "execution_count": 25,
   "id": "841cd6be",
   "metadata": {},
   "outputs": [
    {
     "data": {
      "text/plain": [
       "'CUTIEE'"
      ]
     },
     "execution_count": 25,
     "metadata": {},
     "output_type": "execute_result"
    }
   ],
   "source": [
    "my_cat.name"
   ]
  },
  {
   "cell_type": "code",
   "execution_count": 26,
   "id": "51e28cd2",
   "metadata": {},
   "outputs": [
    {
     "data": {
      "text/plain": [
       "False"
      ]
     },
     "execution_count": 26,
     "metadata": {},
     "output_type": "execute_result"
    }
   ],
   "source": [
    "my_cat.spots"
   ]
  },
  {
   "cell_type": "code",
   "execution_count": null,
   "id": "e6afa1df",
   "metadata": {},
   "outputs": [],
   "source": []
  }
 ],
 "metadata": {
  "kernelspec": {
   "display_name": "Python 3 (ipykernel)",
   "language": "python",
   "name": "python3"
  },
  "language_info": {
   "codemirror_mode": {
    "name": "ipython",
    "version": 3
   },
   "file_extension": ".py",
   "mimetype": "text/x-python",
   "name": "python",
   "nbconvert_exporter": "python",
   "pygments_lexer": "ipython3",
   "version": "3.11.5"
  }
 },
 "nbformat": 4,
 "nbformat_minor": 5
}
