{
 "cells": [
  {
   "cell_type": "markdown",
   "id": "210bca8c",
   "metadata": {},
   "source": [
    "There are multiple ways to formate strings for printing varaibles in them\n",
    "this is know as string INTERPOLATION\n",
    "\n",
    "lets explore two methods for this\n",
    ".formate() method\n",
    "f-strings(Formated string literals)"
   ]
  },
  {
   "cell_type": "markdown",
   "id": "730475e7",
   "metadata": {},
   "source": [
    "FORMATING WITH THE .formate() method\n",
    "\n",
    "A good way format  objects into your strings for print statements is with the string .format()\n",
    "method, the Syntax is\n",
    "\n",
    "'Sting here {} then also {}'.format('something1','something2')"
   ]
  },
  {
   "cell_type": "code",
   "execution_count": 1,
   "id": "170ffffc",
   "metadata": {},
   "outputs": [
    {
     "name": "stdout",
     "output_type": "stream",
     "text": [
      "this is a string INSERTED\n"
     ]
    }
   ],
   "source": [
    "print(\"this is a string {}\".format(\"INSERTED\"))"
   ]
  },
  {
   "cell_type": "code",
   "execution_count": 2,
   "id": "0ecb5505",
   "metadata": {},
   "outputs": [
    {
     "name": "stdout",
     "output_type": "stream",
     "text": [
      "the HAI HELLO HEYYY\n"
     ]
    }
   ],
   "source": [
    "print(\"the {} {} {}\".format('HAI','HELLO','HEYYY'))"
   ]
  },
  {
   "cell_type": "code",
   "execution_count": 3,
   "id": "f96ef8ff",
   "metadata": {},
   "outputs": [
    {
     "name": "stdout",
     "output_type": "stream",
     "text": [
      "the HEYYY HAI HELLO\n"
     ]
    }
   ],
   "source": [
    "print(\"the {2} {0} {1}\".format('HAI','HELLO','HEYYY')) #indiex"
   ]
  },
  {
   "cell_type": "code",
   "execution_count": 6,
   "id": "3830c01c",
   "metadata": {},
   "outputs": [
    {
     "ename": "IndexError",
     "evalue": "Replacement index 0 out of range for positional args tuple",
     "output_type": "error",
     "traceback": [
      "\u001b[1;31m---------------------------------------------------------------------------\u001b[0m",
      "\u001b[1;31mIndexError\u001b[0m                                Traceback (most recent call last)",
      "Cell \u001b[1;32mIn[6], line 1\u001b[0m\n\u001b[1;32m----> 1\u001b[0m \u001b[38;5;28mprint\u001b[39m(\u001b[38;5;124m'\u001b[39m\u001b[38;5;124mhey \u001b[39m\u001b[38;5;132;01m{}\u001b[39;00m\u001b[38;5;124m \u001b[39m\u001b[38;5;132;01m{}\u001b[39;00m\u001b[38;5;124m \u001b[39m\u001b[38;5;132;01m{}\u001b[39;00m\u001b[38;5;124m \u001b[39m\u001b[38;5;124m'\u001b[39m\u001b[38;5;241m.\u001b[39mformat(f\u001b[38;5;241m=\u001b[39m\u001b[38;5;124m'\u001b[39m\u001b[38;5;124mfox\u001b[39m\u001b[38;5;124m'\u001b[39m,q\u001b[38;5;241m=\u001b[39m\u001b[38;5;124m'\u001b[39m\u001b[38;5;124mqucik\u001b[39m\u001b[38;5;124m'\u001b[39m,b\u001b[38;5;241m=\u001b[39m\u001b[38;5;124m'\u001b[39m\u001b[38;5;124mbrown\u001b[39m\u001b[38;5;124m'\u001b[39m))\n",
      "\u001b[1;31mIndexError\u001b[0m: Replacement index 0 out of range for positional args tuple"
     ]
    }
   ],
   "source": [
    "print('hey {} {} {} '.format(f='fox',q='qucik',b='brown'))"
   ]
  },
  {
   "cell_type": "code",
   "execution_count": 7,
   "id": "d635b7f7",
   "metadata": {},
   "outputs": [
    {
     "name": "stdout",
     "output_type": "stream",
     "text": [
      "hey fox qucik brown \n"
     ]
    }
   ],
   "source": [
    "print('hey {f} {q} {b} '.format(f='fox',q='qucik',b='brown'))  \n",
    "#More readable"
   ]
  },
  {
   "cell_type": "markdown",
   "id": "60299816",
   "metadata": {},
   "source": [
    "Float FORMATING Follows \"{value:width.precision f}\""
   ]
  },
  {
   "cell_type": "code",
   "execution_count": 8,
   "id": "2f6780c1",
   "metadata": {},
   "outputs": [],
   "source": [
    "result =100/77\n"
   ]
  },
  {
   "cell_type": "code",
   "execution_count": 9,
   "id": "bbc405bd",
   "metadata": {},
   "outputs": [
    {
     "data": {
      "text/plain": [
       "1.2987012987012987"
      ]
     },
     "execution_count": 9,
     "metadata": {},
     "output_type": "execute_result"
    }
   ],
   "source": [
    "result"
   ]
  },
  {
   "cell_type": "code",
   "execution_count": 12,
   "id": "e91a1fb3",
   "metadata": {},
   "outputs": [
    {
     "name": "stdout",
     "output_type": "stream",
     "text": [
      "the result is 1.2987012987012987\n"
     ]
    }
   ],
   "source": [
    "print(\"the result is {r}\".format(r=result))"
   ]
  },
  {
   "cell_type": "code",
   "execution_count": 13,
   "id": "250d7ec6",
   "metadata": {},
   "outputs": [
    {
     "name": "stdout",
     "output_type": "stream",
     "text": [
      "the result is 1.299\n"
     ]
    }
   ],
   "source": [
    "print(\"the result is {r:2.4}\".format(r=result))"
   ]
  },
  {
   "cell_type": "code",
   "execution_count": 14,
   "id": "567edc30",
   "metadata": {},
   "outputs": [
    {
     "name": "stdout",
     "output_type": "stream",
     "text": [
      "the result is      1.299\n"
     ]
    }
   ],
   "source": [
    "print(\"the result is {r:10.4}\".format(r=result))"
   ]
  },
  {
   "cell_type": "markdown",
   "id": "e1c24e89",
   "metadata": {},
   "source": [
    "f-Strings(formating string literals)"
   ]
  },
  {
   "cell_type": "code",
   "execution_count": 17,
   "id": "38013317",
   "metadata": {},
   "outputs": [
    {
     "name": "stdout",
     "output_type": "stream",
     "text": [
      "hey this string 1.3\n"
     ]
    }
   ],
   "source": [
    "print(\"hey this string {a:1.2}\".format(a=result))"
   ]
  },
  {
   "cell_type": "markdown",
   "id": "1658149f",
   "metadata": {},
   "source": [
    "f-Strings(formating string literals)"
   ]
  },
  {
   "cell_type": "code",
   "execution_count": 18,
   "id": "ea131357",
   "metadata": {},
   "outputs": [
    {
     "name": "stdout",
     "output_type": "stream",
     "text": [
      "heloo this my name DHANUSH\n"
     ]
    }
   ],
   "source": [
    "name=\"DHANUSH\"\n",
    "print(f\"heloo this my name {name}\")"
   ]
  },
  {
   "cell_type": "code",
   "execution_count": 23,
   "id": "89b7fe4e",
   "metadata": {},
   "outputs": [],
   "source": [
    "name=\"Dhanush\"\n",
    "age=18\n",
    "village=\"G.D.Nellore\"\n",
    "distict=\"CHITTOOR\""
   ]
  },
  {
   "cell_type": "code",
   "execution_count": 24,
   "id": "cbae2312",
   "metadata": {},
   "outputs": [
    {
     "name": "stdout",
     "output_type": "stream",
     "text": [
      "my name is Dhanush im 18 yrs old & im from G.D.Nellore village and CHITTOOR District\n"
     ]
    }
   ],
   "source": [
    "print(f\"my name is {name} im {18} yrs old & im from {village} village and {distict} District\")"
   ]
  },
  {
   "cell_type": "code",
   "execution_count": 1,
   "id": "989b7c47",
   "metadata": {},
   "outputs": [],
   "source": [
    "name='lokesh'"
   ]
  },
  {
   "cell_type": "code",
   "execution_count": 4,
   "id": "a5e2e513",
   "metadata": {},
   "outputs": [
    {
     "name": "stdout",
     "output_type": "stream",
     "text": [
      "hey lokesh\n"
     ]
    }
   ],
   "source": [
    "print(\"hey {}\".format(name))"
   ]
  },
  {
   "cell_type": "code",
   "execution_count": null,
   "id": "a4273e6f",
   "metadata": {},
   "outputs": [],
   "source": []
  }
 ],
 "metadata": {
  "kernelspec": {
   "display_name": "Python 3 (ipykernel)",
   "language": "python",
   "name": "python3"
  },
  "language_info": {
   "codemirror_mode": {
    "name": "ipython",
    "version": 3
   },
   "file_extension": ".py",
   "mimetype": "text/x-python",
   "name": "python",
   "nbconvert_exporter": "python",
   "pygments_lexer": "ipython3",
   "version": "3.11.5"
  }
 },
 "nbformat": 4,
 "nbformat_minor": 5
}
