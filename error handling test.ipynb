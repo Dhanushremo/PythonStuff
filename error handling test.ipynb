{
 "cells": [
  {
   "cell_type": "markdown",
   "id": "4cc22358",
   "metadata": {},
   "source": [
    "Problem 1\n",
    "Handle the exception thrown by the code below by using try and except blocks.\n",
    "\n",
    "for i in ['a','b','c']:\n",
    "    print(i**2)\n",
    "---------------------------------------------------------------------------\n",
    "TypeError                                 Traceback (most recent call last)\n",
    "<ipython-input-1-c35f41ad7311> in <module>()\n",
    "      1 for i in ['a','b','c']:\n",
    "----> 2     print(i**2)\n",
    "\n",
    "TypeError: unsupported operand type(s) for ** or pow(): 'str' and 'int'"
   ]
  },
  {
   "cell_type": "code",
   "execution_count": 4,
   "id": "3e72eaf6",
   "metadata": {},
   "outputs": [
    {
     "name": "stdout",
     "output_type": "stream",
     "text": [
      "hey we cant concate the string and integer\n"
     ]
    }
   ],
   "source": [
    "\n",
    "try:\n",
    "    for i in ['a','b','c']:\n",
    "        \n",
    "        print(i**2)\n",
    "except:\n",
    "    print('hey we cant concate the string and integer')"
   ]
  },
  {
   "cell_type": "markdown",
   "id": "cdc4a256",
   "metadata": {},
   "source": [
    "Handle the exception thrown by the code below by using try and except blocks. Then use a finally block to print 'All Done.'\n",
    "\n",
    "x = 5\n",
    "y = 0\n",
    "\n",
    "z = x/y\n",
    "---------------------------------------------------------------------------\n",
    "ZeroDivisionError                         Traceback (most recent call last)\n",
    "<ipython-input-2-6f985c4c80dd> in <module>()\n",
    "      2 y = 0\n",
    "      3 \n",
    "----> 4 z = x/y\n",
    "\n",
    "ZeroDivisionError: division by zero"
   ]
  },
  {
   "cell_type": "code",
   "execution_count": 5,
   "id": "ae48d4cf",
   "metadata": {},
   "outputs": [
    {
     "name": "stdout",
     "output_type": "stream",
     "text": [
      "zero division error\n",
      "all done!!\n"
     ]
    }
   ],
   "source": [
    "x=5\n",
    "y=0\n",
    "try:\n",
    "    z=x/y\n",
    "except:\n",
    "    print('zero division error')\n",
    "finally:\n",
    "    print('all done!!')\n"
   ]
  },
  {
   "cell_type": "markdown",
   "id": "22015f23",
   "metadata": {},
   "source": [
    "Problem 3\n",
    "Write a function that asks for an integer and prints the square of it. Use a while loop with a try, except, else block to account for incorrect inputs.\n",
    "\n",
    "def ask():\n",
    "    pass\n",
    "ask()\n",
    "Input an integer: null\n",
    "An error occurred! Please try again!\n",
    "Input an integer: 2\n",
    "Thank you, your number squared is:  4"
   ]
  },
  {
   "cell_type": "code",
   "execution_count": 9,
   "id": "a1625479",
   "metadata": {},
   "outputs": [],
   "source": [
    "def ask():\n",
    "    waiting = True\n",
    "    while waiting:\n",
    "        try:\n",
    "            n = int(input('enter a number please'))\n",
    "        except:\n",
    "            print('hey this not number')\n",
    "            continue\n",
    "        else:\n",
    "            break\n",
    "    print('thank you your number is corret\\n')\n",
    "    print(n**2)"
   ]
  },
  {
   "cell_type": "code",
   "execution_count": 11,
   "id": "ef4fd317",
   "metadata": {},
   "outputs": [],
   "source": [
    "def ask():\n",
    "    \n",
    "    while True:\n",
    "        try:\n",
    "            n = int(input('Input an integer: '))\n",
    "        except:\n",
    "            print('An error occurred! Please try again!')\n",
    "            continue\n",
    "        else:\n",
    "            break\n",
    "            \n",
    "        \n",
    "    print('Thank you, your number squared is: ',n**2)"
   ]
  },
  {
   "cell_type": "code",
   "execution_count": null,
   "id": "ef4fbc10",
   "metadata": {},
   "outputs": [],
   "source": []
  }
 ],
 "metadata": {
  "kernelspec": {
   "display_name": "Python 3 (ipykernel)",
   "language": "python",
   "name": "python3"
  },
  "language_info": {
   "codemirror_mode": {
    "name": "ipython",
    "version": 3
   },
   "file_extension": ".py",
   "mimetype": "text/x-python",
   "name": "python",
   "nbconvert_exporter": "python",
   "pygments_lexer": "ipython3",
   "version": "3.11.5"
  }
 },
 "nbformat": 4,
 "nbformat_minor": 5
}
