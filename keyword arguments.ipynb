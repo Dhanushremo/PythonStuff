{
 "cells": [
  {
   "cell_type": "code",
   "execution_count": 3,
   "id": "dd25e5c9",
   "metadata": {},
   "outputs": [],
   "source": [
    "def helo(**kwargs): #**kwargs returns dictinory\n",
    "    if 'veg' in kwargs:\n",
    "        print('i choosed my fav vegatable i.e {}'.format(kwargs['veg']))\n",
    "    else:\n",
    "        print('i did not choose anything') #KEYWORD ARGUMENT"
   ]
  },
  {
   "cell_type": "code",
   "execution_count": 4,
   "id": "4d682b1d",
   "metadata": {},
   "outputs": [
    {
     "name": "stdout",
     "output_type": "stream",
     "text": [
      "i choosed my fav vegatable i.e TOMATO\n"
     ]
    }
   ],
   "source": [
    "helo(veg='TOMATO')"
   ]
  },
  {
   "cell_type": "code",
   "execution_count": 5,
   "id": "98e6e564",
   "metadata": {},
   "outputs": [],
   "source": [
    "def myfunc(**spam):\n",
    "    return spam\n"
   ]
  },
  {
   "cell_type": "code",
   "execution_count": 6,
   "id": "0d7a0344",
   "metadata": {},
   "outputs": [
    {
     "data": {
      "text/plain": [
       "{'hai': 'helo', 'helo': 'hai'}"
      ]
     },
     "execution_count": 6,
     "metadata": {},
     "output_type": "execute_result"
    }
   ],
   "source": [
    "myfunc(hai='helo',helo='hai')"
   ]
  },
  {
   "cell_type": "code",
   "execution_count": 12,
   "id": "939a1140",
   "metadata": {},
   "outputs": [],
   "source": [
    "#combination of both **args and **kwargs\n",
    "def helo(*args,**kwargs):\n",
    "    print(args)\n",
    "    print(kwargs)\n",
    "    print(\"i would like {} {}\".format(args[0],kwargs['food']))"
   ]
  },
  {
   "cell_type": "code",
   "execution_count": 14,
   "id": "c500d511",
   "metadata": {},
   "outputs": [
    {
     "name": "stdout",
     "output_type": "stream",
     "text": [
      "(10, 20, 30, 40, 50, 60, 70)\n",
      "{'veg': 'tomata', 'food': 'apples'}\n",
      "i would like 10 apples\n"
     ]
    }
   ],
   "source": [
    "helo(10,20,30,40,50,60,70,veg='tomata',food='apples')"
   ]
  },
  {
   "cell_type": "code",
   "execution_count": 38,
   "id": "fbddee12",
   "metadata": {},
   "outputs": [],
   "source": [
    "def myfun(x=1,y=2):\n",
    "    x = 5+x\n",
    "    print(x)\n",
    "    y = 5+y\n",
    "    print(y)\n",
    "    return x+y\n",
    "     "
   ]
  },
  {
   "cell_type": "code",
   "execution_count": 39,
   "id": "803bab53",
   "metadata": {},
   "outputs": [
    {
     "name": "stdout",
     "output_type": "stream",
     "text": [
      "6\n",
      "7\n"
     ]
    },
    {
     "data": {
      "text/plain": [
       "13"
      ]
     },
     "execution_count": 39,
     "metadata": {},
     "output_type": "execute_result"
    }
   ],
   "source": [
    "myfun(y=2,x=1)"
   ]
  },
  {
   "cell_type": "code",
   "execution_count": 40,
   "id": "200c9c3a",
   "metadata": {},
   "outputs": [
    {
     "name": "stdout",
     "output_type": "stream",
     "text": [
      "2\n"
     ]
    }
   ],
   "source": [
    "print(-10%3)"
   ]
  },
  {
   "cell_type": "code",
   "execution_count": 58,
   "id": "2ad671fc",
   "metadata": {},
   "outputs": [],
   "source": [
    "def fun(**helo):\n",
    "    print('hai this {} {}'.format(helo['hai'],helo['helo']))\n",
    "    print(helo)"
   ]
  },
  {
   "cell_type": "code",
   "execution_count": 59,
   "id": "0cbbfefb",
   "metadata": {},
   "outputs": [
    {
     "name": "stdout",
     "output_type": "stream",
     "text": [
      "hai this Dhanush remo\n",
      "{'hai': 'Dhanush', 'helo': 'remo'}\n"
     ]
    }
   ],
   "source": [
    "fun(hai='Dhanush',helo='remo')"
   ]
  },
  {
   "cell_type": "code",
   "execution_count": null,
   "id": "3197e708",
   "metadata": {},
   "outputs": [],
   "source": []
  },
  {
   "cell_type": "code",
   "execution_count": null,
   "id": "49a86aa9",
   "metadata": {},
   "outputs": [],
   "source": []
  }
 ],
 "metadata": {
  "kernelspec": {
   "display_name": "Python 3 (ipykernel)",
   "language": "python",
   "name": "python3"
  },
  "language_info": {
   "codemirror_mode": {
    "name": "ipython",
    "version": 3
   },
   "file_extension": ".py",
   "mimetype": "text/x-python",
   "name": "python",
   "nbconvert_exporter": "python",
   "pygments_lexer": "ipython3",
   "version": "3.11.5"
  }
 },
 "nbformat": 4,
 "nbformat_minor": 5
}
