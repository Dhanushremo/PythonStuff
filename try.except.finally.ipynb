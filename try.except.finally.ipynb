{
 "cells": [
  {
   "cell_type": "markdown",
   "id": "8960866e",
   "metadata": {},
   "source": [
    "# Error Handling!!\n",
    "\n",
    "Errors are bound to happpen in your code! especially when someone else ends up using it in an unexcepted way!!\n",
    "\n",
    "we can use error handling to attempt to plan for possible errors\n",
    "\n",
    "for example, a user may try to write to a file that was only opened in mode = 'r'\n",
    "currently if there is any type of error in your code,the entire script will stop\n",
    "we can use error handling to let the script continue with other code,even if there is an error\n"
   ]
  },
  {
   "cell_type": "markdown",
   "id": "e434f5f1",
   "metadata": {},
   "source": [
    "* we can use three keywords for this\n",
    "\n",
    "1)try:-this is the block of code to be attempted (may lead to an error)\n",
    "2)except:-Block of code will execute in case there is an error in try block\n",
    "3)finally:-A final block of code to be executed, regardless of an error!!\n"
   ]
  },
  {
   "cell_type": "code",
   "execution_count": 1,
   "id": "9bdc811f",
   "metadata": {},
   "outputs": [],
   "source": [
    "def sub(n1,n2):\n",
    "    \n",
    "    return n1-n2"
   ]
  },
  {
   "cell_type": "code",
   "execution_count": 2,
   "id": "1134776d",
   "metadata": {},
   "outputs": [
    {
     "data": {
      "text/plain": [
       "10"
      ]
     },
     "execution_count": 2,
     "metadata": {},
     "output_type": "execute_result"
    }
   ],
   "source": [
    "sub(20,10)"
   ]
  },
  {
   "cell_type": "code",
   "execution_count": 3,
   "id": "0541ede1",
   "metadata": {},
   "outputs": [],
   "source": [
    "number1 = 30"
   ]
  },
  {
   "cell_type": "code",
   "execution_count": 4,
   "id": "a3aed97f",
   "metadata": {},
   "outputs": [
    {
     "name": "stdout",
     "output_type": "stream",
     "text": [
      "hey please provide a number here! 10\n"
     ]
    }
   ],
   "source": [
    "number2 = input('hey please provide a number here! ')"
   ]
  },
  {
   "cell_type": "code",
   "execution_count": 5,
   "id": "31e87f58",
   "metadata": {},
   "outputs": [
    {
     "ename": "TypeError",
     "evalue": "unsupported operand type(s) for -: 'int' and 'str'",
     "output_type": "error",
     "traceback": [
      "\u001b[1;31m---------------------------------------------------------------------------\u001b[0m",
      "\u001b[1;31mTypeError\u001b[0m                                 Traceback (most recent call last)",
      "Cell \u001b[1;32mIn[5], line 1\u001b[0m\n\u001b[1;32m----> 1\u001b[0m sub(number1,number2)\n",
      "Cell \u001b[1;32mIn[1], line 3\u001b[0m, in \u001b[0;36msub\u001b[1;34m(n1, n2)\u001b[0m\n\u001b[0;32m      1\u001b[0m \u001b[38;5;28;01mdef\u001b[39;00m \u001b[38;5;21msub\u001b[39m(n1,n2):\n\u001b[1;32m----> 3\u001b[0m     \u001b[38;5;28;01mreturn\u001b[39;00m n1\u001b[38;5;241m-\u001b[39mn2\n",
      "\u001b[1;31mTypeError\u001b[0m: unsupported operand type(s) for -: 'int' and 'str'"
     ]
    }
   ],
   "source": [
    "sub(number1,number2)"
   ]
  },
  {
   "cell_type": "code",
   "execution_count": 13,
   "id": "cfa04687",
   "metadata": {},
   "outputs": [
    {
     "name": "stdout",
     "output_type": "stream",
     "text": [
      "enter a value!10\n",
      "20\n",
      "20\n",
      "all done\n"
     ]
    }
   ],
   "source": [
    "num1 = 10\n",
    "num2 = int(input('enter a value!'))\n",
    "\n",
    "try:\n",
    "    #attempted(may error occur)\n",
    "    result = num1 + num2\n",
    "    print(result)\n",
    "except:\n",
    "    print('hey please add correctly')\n",
    "    \n",
    "else:\n",
    "    print(result)\n",
    "    print('all done')\n",
    "    "
   ]
  },
  {
   "cell_type": "code",
   "execution_count": null,
   "id": "f6452283",
   "metadata": {},
   "outputs": [],
   "source": []
  },
  {
   "cell_type": "code",
   "execution_count": null,
   "id": "896a9468",
   "metadata": {},
   "outputs": [],
   "source": []
  },
  {
   "cell_type": "code",
   "execution_count": 15,
   "id": "fc50bad3",
   "metadata": {},
   "outputs": [
    {
     "name": "stdout",
     "output_type": "stream",
     "text": [
      "other exceptions\n",
      "i always run\n"
     ]
    }
   ],
   "source": [
    "try:\n",
    "    with open('mytext.txt',mode='r') as f:\n",
    "        f.write('hey add a new line!')\n",
    "except:\n",
    "    print('other exceptions')\n",
    "else:\n",
    "    print('hey this not a error')\n",
    "finally:\n",
    "    print('i always run')"
   ]
  },
  {
   "cell_type": "code",
   "execution_count": 16,
   "id": "1962fa0f",
   "metadata": {},
   "outputs": [],
   "source": [
    "def ask_for_int():\n",
    "    try:\n",
    "        result = int(input('please provide a correct number!!'))\n",
    "    except:\n",
    "        print('Whoops! that is not number!!')\n",
    "    finally:\n",
    "        print('hey i always run brohh')"
   ]
  },
  {
   "cell_type": "code",
   "execution_count": 18,
   "id": "614eb069",
   "metadata": {},
   "outputs": [
    {
     "name": "stdout",
     "output_type": "stream",
     "text": [
      "please provide a correct number!!hai\n",
      "Whoops! that is not number!!\n",
      "hey i always run brohh\n"
     ]
    }
   ],
   "source": [
    "ask_for_int()"
   ]
  },
  {
   "cell_type": "code",
   "execution_count": 19,
   "id": "a2820ff6",
   "metadata": {},
   "outputs": [],
   "source": [
    "def ask_for_int1():\n",
    "    while True:\n",
    "        \n",
    "        try:\n",
    "            result = int(input('please provide a correct number!!'))\n",
    "        except:\n",
    "            print('Whoops! that is not number!!')\n",
    "            continue\n",
    "            print('hey')\n",
    "        else:\n",
    "            print('hey thats fine its a correct number Remo!')\n",
    "            break\n",
    "        finally:\n",
    "            print('hey i always run brohh')\n",
    "            print('please provide a number again \\n')"
   ]
  },
  {
   "cell_type": "code",
   "execution_count": 21,
   "id": "85f48de8",
   "metadata": {},
   "outputs": [
    {
     "name": "stdout",
     "output_type": "stream",
     "text": [
      "please provide a correct number!!q\n",
      "Whoops! that is not number!!\n",
      "hey i always run brohh\n",
      "please provide a number again \n",
      "\n",
      "please provide a correct number!!q\n",
      "Whoops! that is not number!!\n",
      "hey i always run brohh\n",
      "please provide a number again \n",
      "\n",
      "please provide a correct number!!r\n",
      "Whoops! that is not number!!\n",
      "hey i always run brohh\n",
      "please provide a number again \n",
      "\n",
      "please provide a correct number!!10\n",
      "hey thats fine its a correct number Remo!\n",
      "hey i always run brohh\n",
      "please provide a number again \n",
      "\n"
     ]
    }
   ],
   "source": [
    "ask_for_int1()"
   ]
  },
  {
   "cell_type": "code",
   "execution_count": null,
   "id": "9e361c24",
   "metadata": {},
   "outputs": [],
   "source": []
  }
 ],
 "metadata": {
  "kernelspec": {
   "display_name": "Python 3 (ipykernel)",
   "language": "python",
   "name": "python3"
  },
  "language_info": {
   "codemirror_mode": {
    "name": "ipython",
    "version": 3
   },
   "file_extension": ".py",
   "mimetype": "text/x-python",
   "name": "python",
   "nbconvert_exporter": "python",
   "pygments_lexer": "ipython3",
   "version": "3.11.5"
  }
 },
 "nbformat": 4,
 "nbformat_minor": 5
}
