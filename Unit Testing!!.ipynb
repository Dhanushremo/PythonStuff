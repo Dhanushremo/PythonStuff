{
 "cells": [
  {
   "cell_type": "markdown",
   "id": "7a5b5df4",
   "metadata": {},
   "source": [
    "As you begin to expand to larger multi-file projects it becomes important to have tests in place\n",
    "\n",
    "this way as you make changes or update your code, tou can run your test files to make sure previous code still runs as expected!!"
   ]
  },
  {
   "cell_type": "markdown",
   "id": "c2275d2c",
   "metadata": {},
   "source": [
    "there are several testing tools, we will focus on two!!\n",
    "\n",
    "pylint:-- This is a library that looks at your code and reports back possible issues\n",
    "unittest:--this bulit_in library will allow to test your own programs and check you are getting desired outputs!!"
   ]
  },
  {
   "cell_type": "markdown",
   "id": "788caaa0",
   "metadata": {},
   "source": [
    "python as a set of style conventions rules known as 'PEP 8'"
   ]
  },
  {
   "cell_type": "code",
   "execution_count": null,
   "id": "e40a3e8e",
   "metadata": {},
   "outputs": [],
   "source": []
  }
 ],
 "metadata": {
  "kernelspec": {
   "display_name": "Python 3 (ipykernel)",
   "language": "python",
   "name": "python3"
  },
  "language_info": {
   "codemirror_mode": {
    "name": "ipython",
    "version": 3
   },
   "file_extension": ".py",
   "mimetype": "text/x-python",
   "name": "python",
   "nbconvert_exporter": "python",
   "pygments_lexer": "ipython3",
   "version": "3.11.5"
  }
 },
 "nbformat": 4,
 "nbformat_minor": 5
}
