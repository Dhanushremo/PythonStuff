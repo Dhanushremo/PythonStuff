{
 "cells": [
  {
   "cell_type": "code",
   "execution_count": 2,
   "id": "4349c357",
   "metadata": {},
   "outputs": [],
   "source": [
    "#Immutability\n",
    "\n"
   ]
  },
  {
   "cell_type": "markdown",
   "id": "2fc69b80",
   "metadata": {},
   "source": [
    "Immutability"
   ]
  },
  {
   "cell_type": "code",
   "execution_count": 3,
   "id": "31d0a52b",
   "metadata": {},
   "outputs": [],
   "source": [
    "name = \"Sam\""
   ]
  },
  {
   "cell_type": "code",
   "execution_count": 4,
   "id": "2a0143dd",
   "metadata": {},
   "outputs": [
    {
     "ename": "TypeError",
     "evalue": "'str' object does not support item assignment",
     "output_type": "error",
     "traceback": [
      "\u001b[1;31m---------------------------------------------------------------------------\u001b[0m",
      "\u001b[1;31mTypeError\u001b[0m                                 Traceback (most recent call last)",
      "Cell \u001b[1;32mIn[4], line 1\u001b[0m\n\u001b[1;32m----> 1\u001b[0m name[\u001b[38;5;241m0\u001b[39m]\u001b[38;5;241m=\u001b[39m\u001b[38;5;124m\"\u001b[39m\u001b[38;5;124mp\u001b[39m\u001b[38;5;124m\"\u001b[39m\n",
      "\u001b[1;31mTypeError\u001b[0m: 'str' object does not support item assignment"
     ]
    }
   ],
   "source": [
    "name[0]=\"p\""
   ]
  },
  {
   "cell_type": "code",
   "execution_count": 5,
   "id": "32c357a7",
   "metadata": {},
   "outputs": [],
   "source": [
    "lastname=name[1:]"
   ]
  },
  {
   "cell_type": "code",
   "execution_count": 6,
   "id": "39b42ad1",
   "metadata": {},
   "outputs": [
    {
     "data": {
      "text/plain": [
       "'am'"
      ]
     },
     "execution_count": 6,
     "metadata": {},
     "output_type": "execute_result"
    }
   ],
   "source": [
    "lastname"
   ]
  },
  {
   "cell_type": "code",
   "execution_count": 7,
   "id": "8071c800",
   "metadata": {},
   "outputs": [
    {
     "ename": "NameError",
     "evalue": "name 'p' is not defined",
     "output_type": "error",
     "traceback": [
      "\u001b[1;31m---------------------------------------------------------------------------\u001b[0m",
      "\u001b[1;31mNameError\u001b[0m                                 Traceback (most recent call last)",
      "Cell \u001b[1;32mIn[7], line 1\u001b[0m\n\u001b[1;32m----> 1\u001b[0m p\u001b[38;5;241m+\u001b[39mlastname\n",
      "\u001b[1;31mNameError\u001b[0m: name 'p' is not defined"
     ]
    }
   ],
   "source": [
    "p+lastname"
   ]
  },
  {
   "cell_type": "code",
   "execution_count": 8,
   "id": "940706d3",
   "metadata": {},
   "outputs": [
    {
     "data": {
      "text/plain": [
       "'pam'"
      ]
     },
     "execution_count": 8,
     "metadata": {},
     "output_type": "execute_result"
    }
   ],
   "source": [
    "\"p\"+lastname"
   ]
  },
  {
   "cell_type": "code",
   "execution_count": 9,
   "id": "bf2219e6",
   "metadata": {},
   "outputs": [],
   "source": [
    "x =\"hello world\""
   ]
  },
  {
   "cell_type": "code",
   "execution_count": 11,
   "id": "70b6f7f7",
   "metadata": {},
   "outputs": [
    {
     "data": {
      "text/plain": [
       "'hello world it is a beatiful website'"
      ]
     },
     "execution_count": 11,
     "metadata": {},
     "output_type": "execute_result"
    }
   ],
   "source": [
    "x+\" it is a beatiful website\""
   ]
  },
  {
   "cell_type": "code",
   "execution_count": 16,
   "id": "9422d458",
   "metadata": {},
   "outputs": [],
   "source": [
    "x = x + \"iit is a beatiful website\""
   ]
  },
  {
   "cell_type": "code",
   "execution_count": 17,
   "id": "3cf955a6",
   "metadata": {},
   "outputs": [
    {
     "data": {
      "text/plain": [
       "'hello worldiit is a beatiful websiteiit is a beatiful websiteiit is a beatiful website'"
      ]
     },
     "execution_count": 17,
     "metadata": {},
     "output_type": "execute_result"
    }
   ],
   "source": [
    "x"
   ]
  },
  {
   "cell_type": "code",
   "execution_count": 18,
   "id": "247b12cb",
   "metadata": {},
   "outputs": [],
   "source": [
    "letter = \"DHANUSH\""
   ]
  },
  {
   "cell_type": "code",
   "execution_count": 19,
   "id": "a19ba3be",
   "metadata": {},
   "outputs": [
    {
     "data": {
      "text/plain": [
       "'DHANUSHDHANUSHDHANUSHDHANUSHDHANUSHDHANUSHDHANUSHDHANUSHDHANUSHDHANUSH'"
      ]
     },
     "execution_count": 19,
     "metadata": {},
     "output_type": "execute_result"
    }
   ],
   "source": [
    "letter * 10"
   ]
  },
  {
   "cell_type": "code",
   "execution_count": 20,
   "id": "8bd7b43f",
   "metadata": {},
   "outputs": [
    {
     "data": {
      "text/plain": [
       "5"
      ]
     },
     "execution_count": 20,
     "metadata": {},
     "output_type": "execute_result"
    }
   ],
   "source": [
    "2 + 3"
   ]
  },
  {
   "cell_type": "code",
   "execution_count": 21,
   "id": "915dbbe3",
   "metadata": {},
   "outputs": [
    {
     "data": {
      "text/plain": [
       "'23'"
      ]
     },
     "execution_count": 21,
     "metadata": {},
     "output_type": "execute_result"
    }
   ],
   "source": [
    "\"2\" + \"3\""
   ]
  },
  {
   "cell_type": "code",
   "execution_count": 22,
   "id": "a9804491",
   "metadata": {},
   "outputs": [],
   "source": [
    "x = \"Hello world\"\n"
   ]
  },
  {
   "cell_type": "code",
   "execution_count": 23,
   "id": "529393fd",
   "metadata": {},
   "outputs": [
    {
     "data": {
      "text/plain": [
       "'HELLO WORLD'"
      ]
     },
     "execution_count": 23,
     "metadata": {},
     "output_type": "execute_result"
    }
   ],
   "source": [
    "x.upper()"
   ]
  },
  {
   "cell_type": "code",
   "execution_count": 24,
   "id": "f890f6c0",
   "metadata": {},
   "outputs": [
    {
     "data": {
      "text/plain": [
       "'hello world'"
      ]
     },
     "execution_count": 24,
     "metadata": {},
     "output_type": "execute_result"
    }
   ],
   "source": [
    "x.lower()"
   ]
  },
  {
   "cell_type": "code",
   "execution_count": 27,
   "id": "67e274dd",
   "metadata": {},
   "outputs": [],
   "source": [
    "#x.captilaize()"
   ]
  },
  {
   "cell_type": "code",
   "execution_count": 28,
   "id": "30da3466",
   "metadata": {},
   "outputs": [
    {
     "data": {
      "text/plain": [
       "<function str.upper()>"
      ]
     },
     "execution_count": 28,
     "metadata": {},
     "output_type": "execute_result"
    }
   ],
   "source": [
    "x.upper"
   ]
  },
  {
   "cell_type": "code",
   "execution_count": 31,
   "id": "9832a90d",
   "metadata": {},
   "outputs": [
    {
     "data": {
      "text/plain": [
       "False"
      ]
     },
     "execution_count": 31,
     "metadata": {},
     "output_type": "execute_result"
    }
   ],
   "source": [
    "x.startswith('e')"
   ]
  },
  {
   "cell_type": "code",
   "execution_count": 32,
   "id": "0c23c62b",
   "metadata": {},
   "outputs": [
    {
     "data": {
      "text/plain": [
       "['Hello', 'world']"
      ]
     },
     "execution_count": 32,
     "metadata": {},
     "output_type": "execute_result"
    }
   ],
   "source": [
    "x.split()"
   ]
  },
  {
   "cell_type": "code",
   "execution_count": 33,
   "id": "72d1e19b",
   "metadata": {},
   "outputs": [],
   "source": [
    "x = \"hai this is a string\""
   ]
  },
  {
   "cell_type": "code",
   "execution_count": 34,
   "id": "b7a84bb5",
   "metadata": {},
   "outputs": [
    {
     "data": {
      "text/plain": [
       "['hai', 'this', 'is', 'a', 'string']"
      ]
     },
     "execution_count": 34,
     "metadata": {},
     "output_type": "execute_result"
    }
   ],
   "source": [
    "x.split()"
   ]
  },
  {
   "cell_type": "code",
   "execution_count": 35,
   "id": "2c3244ca",
   "metadata": {},
   "outputs": [
    {
     "data": {
      "text/plain": [
       "['hai ', 'his is a s', 'ring']"
      ]
     },
     "execution_count": 35,
     "metadata": {},
     "output_type": "execute_result"
    }
   ],
   "source": [
    "x.split(\"t\")"
   ]
  },
  {
   "cell_type": "code",
   "execution_count": 1,
   "id": "1fc4e408",
   "metadata": {},
   "outputs": [],
   "source": [
    "name=\"HAI DHANUSH\""
   ]
  },
  {
   "cell_type": "code",
   "execution_count": 2,
   "id": "dccc7d00",
   "metadata": {},
   "outputs": [
    {
     "data": {
      "text/plain": [
       "'HAI DHANUSH'"
      ]
     },
     "execution_count": 2,
     "metadata": {},
     "output_type": "execute_result"
    }
   ],
   "source": [
    "name"
   ]
  },
  {
   "cell_type": "code",
   "execution_count": 3,
   "id": "ad18e4e9",
   "metadata": {},
   "outputs": [],
   "source": [
    "last_name=name[1:]"
   ]
  },
  {
   "cell_type": "code",
   "execution_count": 4,
   "id": "639282d8",
   "metadata": {},
   "outputs": [
    {
     "data": {
      "text/plain": [
       "'AI DHANUSH'"
      ]
     },
     "execution_count": 4,
     "metadata": {},
     "output_type": "execute_result"
    }
   ],
   "source": [
    "last_name"
   ]
  },
  {
   "cell_type": "code",
   "execution_count": 5,
   "id": "ded5f523",
   "metadata": {},
   "outputs": [
    {
     "data": {
      "text/plain": [
       "'hAI DHANUSH'"
      ]
     },
     "execution_count": 5,
     "metadata": {},
     "output_type": "execute_result"
    }
   ],
   "source": [
    "\"h\"+last_name"
   ]
  },
  {
   "cell_type": "code",
   "execution_count": 6,
   "id": "c78cee6b",
   "metadata": {},
   "outputs": [
    {
     "data": {
      "text/plain": [
       "['HAI', 'DHANUSH']"
      ]
     },
     "execution_count": 6,
     "metadata": {},
     "output_type": "execute_result"
    }
   ],
   "source": [
    "name.split()"
   ]
  },
  {
   "cell_type": "code",
   "execution_count": 7,
   "id": "03367168",
   "metadata": {},
   "outputs": [
    {
     "data": {
      "text/plain": [
       "['HAI DHANUSH']"
      ]
     },
     "execution_count": 7,
     "metadata": {},
     "output_type": "execute_result"
    }
   ],
   "source": [
    "name.split(\"i\")"
   ]
  },
  {
   "cell_type": "code",
   "execution_count": 8,
   "id": "49dccd11",
   "metadata": {},
   "outputs": [
    {
     "data": {
      "text/plain": [
       "['HAI DHANUSH']"
      ]
     },
     "execution_count": 8,
     "metadata": {},
     "output_type": "execute_result"
    }
   ],
   "source": [
    "name.split(\"n\")"
   ]
  },
  {
   "cell_type": "code",
   "execution_count": 9,
   "id": "7df78d4e",
   "metadata": {},
   "outputs": [
    {
     "data": {
      "text/plain": [
       "['HAI DHA', 'USH']"
      ]
     },
     "execution_count": 9,
     "metadata": {},
     "output_type": "execute_result"
    }
   ],
   "source": [
    "name.split(\"N\")"
   ]
  },
  {
   "cell_type": "code",
   "execution_count": null,
   "id": "665cec10",
   "metadata": {},
   "outputs": [],
   "source": []
  }
 ],
 "metadata": {
  "kernelspec": {
   "display_name": "Python 3 (ipykernel)",
   "language": "python",
   "name": "python3"
  },
  "language_info": {
   "codemirror_mode": {
    "name": "ipython",
    "version": 3
   },
   "file_extension": ".py",
   "mimetype": "text/x-python",
   "name": "python",
   "nbconvert_exporter": "python",
   "pygments_lexer": "ipython3",
   "version": "3.11.5"
  }
 },
 "nbformat": 4,
 "nbformat_minor": 5
}
