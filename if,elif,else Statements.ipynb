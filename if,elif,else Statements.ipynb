{
 "cells": [
  {
   "cell_type": "markdown",
   "id": "1ea8d93f",
   "metadata": {},
   "source": [
    "we often only want certain code to execute when a particular condition has been met..\n",
    "For example, if  my dog is hungry(some condition1),then I will feed the dog (some action)\n",
    "\n"
   ]
  },
  {
   "cell_type": "markdown",
   "id": "0abe8af3",
   "metadata": {},
   "source": [
    "*TO control this flow of logic we use some keywords\n",
    "*if\n",
    "*elif\n",
    "*else"
   ]
  },
  {
   "cell_type": "markdown",
   "id": "a6b1d169",
   "metadata": {},
   "source": [
    "control flow syntax makes use of colons\n",
    "and indentation (whitespace)\n",
    "*This indentation system is crucial to python and is what sets it apart from other programming languages"
   ]
  },
  {
   "cell_type": "markdown",
   "id": "5d076f14",
   "metadata": {},
   "source": [
    "*syntax of an if statement\n",
    "\n",
    "if some_condition:\n",
    "    #execute some code\n"
   ]
  },
  {
   "cell_type": "markdown",
   "id": "c9249240",
   "metadata": {},
   "source": [
    "*syntax of an if/else statement\n",
    "\n",
    "if some_condition:\n",
    "    #execute some code\n",
    "else:\n",
    "    #do something else"
   ]
  },
  {
   "cell_type": "markdown",
   "id": "2d4e4f3d",
   "metadata": {},
   "source": [
    "*syntax of an elif statement\n",
    "\n",
    "if some_condition:\n",
    "    #execute some code\n",
    "elif some_other_condition\n",
    "    #do something different\n",
    "else:\n",
    "    #do something else"
   ]
  },
  {
   "cell_type": "code",
   "execution_count": 3,
   "id": "f68f7b4c",
   "metadata": {},
   "outputs": [
    {
     "name": "stdout",
     "output_type": "stream",
     "text": [
      "ITS TRUE\n"
     ]
    }
   ],
   "source": [
    "if True:\n",
    "    print(\"ITS TRUE\")"
   ]
  },
  {
   "cell_type": "code",
   "execution_count": 4,
   "id": "3d977b40",
   "metadata": {},
   "outputs": [
    {
     "name": "stdout",
     "output_type": "stream",
     "text": [
      "its True\n"
     ]
    }
   ],
   "source": [
    "if 3>2:\n",
    "    print(\"its True\")"
   ]
  },
  {
   "cell_type": "code",
   "execution_count": 5,
   "id": "f4cc7983",
   "metadata": {},
   "outputs": [
    {
     "name": "stdout",
     "output_type": "stream",
     "text": [
      "FEED ME!!\n"
     ]
    }
   ],
   "source": [
    "hungry = True\n",
    "\n",
    "if hungry:\n",
    "    print(\"FEED ME!!\")\n",
    "\n",
    "    "
   ]
  },
  {
   "cell_type": "code",
   "execution_count": 6,
   "id": "e2ab06cb",
   "metadata": {},
   "outputs": [
    {
     "name": "stdout",
     "output_type": "stream",
     "text": [
      "FEED ME!!\n"
     ]
    }
   ],
   "source": [
    "hungry = True\n",
    "\n",
    "if hungry:\n",
    "    print(\"FEED ME!!\")\n",
    "else:\n",
    "    print(\"IM NOT HUNGRY\")"
   ]
  },
  {
   "cell_type": "code",
   "execution_count": 7,
   "id": "d137f523",
   "metadata": {},
   "outputs": [
    {
     "name": "stdout",
     "output_type": "stream",
     "text": [
      "IM NOT HUNGRY\n"
     ]
    }
   ],
   "source": [
    "hungry = False\n",
    "\n",
    "if hungry:\n",
    "    print(\"FEED ME!!\")\n",
    "else:\n",
    "    print(\"IM NOT HUNGRY\")"
   ]
  },
  {
   "cell_type": "code",
   "execution_count": 10,
   "id": "69b45273",
   "metadata": {},
   "outputs": [
    {
     "name": "stdout",
     "output_type": "stream",
     "text": [
      "FEED ME!!\n"
     ]
    }
   ],
   "source": [
    "hungry = True\n",
    "\n",
    "if hungry == True:\n",
    "    print(\"FEED ME!!\")\n",
    "else:\n",
    "    print(\"IM NOT HUNGRY\")"
   ]
  },
  {
   "cell_type": "code",
   "execution_count": 11,
   "id": "d93a3daf",
   "metadata": {},
   "outputs": [
    {
     "name": "stdout",
     "output_type": "stream",
     "text": [
      "I do not know much\n"
     ]
    }
   ],
   "source": [
    "loc = 'Bank'\n",
    "\n",
    "if loc == 'Auto Shop':\n",
    "    print(\"cars are cool!!\")\n",
    "else:\n",
    "    print(\"I do not know much\")"
   ]
  },
  {
   "cell_type": "code",
   "execution_count": 15,
   "id": "c65e5d62",
   "metadata": {},
   "outputs": [
    {
     "name": "stdout",
     "output_type": "stream",
     "text": [
      "I do not know much\n"
     ]
    }
   ],
   "source": [
    "loc = 'Game'\n",
    "\n",
    "if loc == 'Auto Shop':\n",
    "    print(\"cars are cool!!\")\n",
    "elif loc == 'Bank':\n",
    "    print(\"Money is cool!!\")\n",
    "elif loc == 'Store':\n",
    "    print(\"welcome to Store!!\")\n",
    "    \n",
    "else:\n",
    "    print(\"I do not know much\")"
   ]
  },
  {
   "cell_type": "code",
   "execution_count": 16,
   "id": "2c12ecd6",
   "metadata": {},
   "outputs": [
    {
     "name": "stdout",
     "output_type": "stream",
     "text": [
      "what is your name!!!\n"
     ]
    }
   ],
   "source": [
    "name = 'Dhanush'\n",
    "if name == 'Remo':\n",
    "    print(\"heloo Remo\")\n",
    "elif name == 'Naanu':\n",
    "    print(\"helooo Naanu\")\n",
    "elif name == 'Abi':\n",
    "    print(\"Hellooo Abi\")\n",
    "else:\n",
    "    print(\"what is your name!!!\")"
   ]
  },
  {
   "cell_type": "code",
   "execution_count": null,
   "id": "f449f1d9",
   "metadata": {},
   "outputs": [],
   "source": []
  }
 ],
 "metadata": {
  "kernelspec": {
   "display_name": "Python 3 (ipykernel)",
   "language": "python",
   "name": "python3"
  },
  "language_info": {
   "codemirror_mode": {
    "name": "ipython",
    "version": 3
   },
   "file_extension": ".py",
   "mimetype": "text/x-python",
   "name": "python",
   "nbconvert_exporter": "python",
   "pygments_lexer": "ipython3",
   "version": "3.11.5"
  }
 },
 "nbformat": 4,
 "nbformat_minor": 5
}
