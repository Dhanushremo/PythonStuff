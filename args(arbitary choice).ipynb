{
 "cells": [
  {
   "cell_type": "code",
   "execution_count": 5,
   "id": "8c1d890c",
   "metadata": {},
   "outputs": [],
   "source": [
    "#*args (arbitary choice)\n",
    "def myfunc(a,b):\n",
    "    #it returns 5% of sum (a,b)\n",
    "    return ((a+b)) *  0.05"
   ]
  },
  {
   "cell_type": "code",
   "execution_count": 6,
   "id": "0035fc80",
   "metadata": {},
   "outputs": [
    {
     "data": {
      "text/plain": [
       "5.0"
      ]
     },
     "execution_count": 6,
     "metadata": {},
     "output_type": "execute_result"
    }
   ],
   "source": [
    "myfunc(40,60)"
   ]
  },
  {
   "cell_type": "code",
   "execution_count": 10,
   "id": "89fa06de",
   "metadata": {},
   "outputs": [],
   "source": [
    "def myfunc(a,b,c=0,d=0,e=0):\n",
    "    return ((a+b+c+d+e)) * 0.05\n"
   ]
  },
  {
   "cell_type": "code",
   "execution_count": 12,
   "id": "25be2fdd",
   "metadata": {},
   "outputs": [
    {
     "data": {
      "text/plain": [
       "1.5"
      ]
     },
     "execution_count": 12,
     "metadata": {},
     "output_type": "execute_result"
    }
   ],
   "source": [
    "myfunc(10,10,10)"
   ]
  },
  {
   "cell_type": "code",
   "execution_count": 20,
   "id": "c0e2f93d",
   "metadata": {},
   "outputs": [],
   "source": [
    "#to n no. of parameters we are using to *args\n",
    "def myfunc(*args):\n",
    "    return (args)"
   ]
  },
  {
   "cell_type": "code",
   "execution_count": 21,
   "id": "8d9b4bf8",
   "metadata": {},
   "outputs": [
    {
     "data": {
      "text/plain": [
       "(1, 2, 3, 4)"
      ]
     },
     "execution_count": 21,
     "metadata": {},
     "output_type": "execute_result"
    }
   ],
   "source": [
    "myfunc(1,2,3,4)"
   ]
  },
  {
   "cell_type": "code",
   "execution_count": 32,
   "id": "96cccc11",
   "metadata": {},
   "outputs": [],
   "source": [
    "def myfunc(*spam):\n",
    "    for iteam in spam:\n",
    "        print(iteam)"
   ]
  },
  {
   "cell_type": "code",
   "execution_count": 33,
   "id": "6faf5c6e",
   "metadata": {},
   "outputs": [
    {
     "name": "stdout",
     "output_type": "stream",
     "text": [
      "1\n",
      "2\n",
      "3\n",
      "4\n",
      "5\n",
      "5\n",
      "6\n",
      "7\n",
      "8\n",
      "8\n",
      "7\n",
      "6\n",
      "6\n"
     ]
    }
   ],
   "source": [
    "myfunc(1,2,3,4,5,5,6,7,8,8,7,6,6)"
   ]
  },
  {
   "cell_type": "code",
   "execution_count": 34,
   "id": "cbdb8723",
   "metadata": {},
   "outputs": [],
   "source": [
    "def myfunc(**kwargs):\n",
    "    return kwargs"
   ]
  },
  {
   "cell_type": "code",
   "execution_count": 36,
   "id": "c395b123",
   "metadata": {},
   "outputs": [
    {
     "data": {
      "text/plain": [
       "{'hai': 'hello'}"
      ]
     },
     "execution_count": 36,
     "metadata": {},
     "output_type": "execute_result"
    }
   ],
   "source": [
    "myfunc(hai='hello')"
   ]
  },
  {
   "cell_type": "code",
   "execution_count": 4,
   "id": "72e55253",
   "metadata": {},
   "outputs": [],
   "source": [
    "def myfunc(**heloo):\n",
    "    if 'veg' in heloo:\n",
    "        print('this my choosed vegetable {}'.format(heloo['veg']))\n",
    "    else:\n",
    "        print(\"i did not  choose my vegetable\")"
   ]
  },
  {
   "cell_type": "code",
   "execution_count": 5,
   "id": "cd2edde1",
   "metadata": {},
   "outputs": [
    {
     "name": "stdout",
     "output_type": "stream",
     "text": [
      "this my choosed vegetable potato\n"
     ]
    }
   ],
   "source": [
    "myfunc(veg='potato')"
   ]
  },
  {
   "cell_type": "code",
   "execution_count": null,
   "id": "89bd3bdd",
   "metadata": {},
   "outputs": [],
   "source": []
  },
  {
   "cell_type": "code",
   "execution_count": null,
   "id": "e90e88b2",
   "metadata": {},
   "outputs": [],
   "source": []
  }
 ],
 "metadata": {
  "kernelspec": {
   "display_name": "Python 3 (ipykernel)",
   "language": "python",
   "name": "python3"
  },
  "language_info": {
   "codemirror_mode": {
    "name": "ipython",
    "version": 3
   },
   "file_extension": ".py",
   "mimetype": "text/x-python",
   "name": "python",
   "nbconvert_exporter": "python",
   "pygments_lexer": "ipython3",
   "version": "3.11.5"
  }
 },
 "nbformat": 4,
 "nbformat_minor": 5
}
