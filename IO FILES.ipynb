{
 "cells": [
  {
   "cell_type": "code",
   "execution_count": 13,
   "id": "e3a71c6f",
   "metadata": {},
   "outputs": [
    {
     "name": "stdout",
     "output_type": "stream",
     "text": [
      "Overwriting myfile.txt\n"
     ]
    }
   ],
   "source": [
    "%%writefile myfile.txt\n",
    "Hello this a text file \n",
    "this is a second line \n",
    "this is a third line\n",
    "this is a fourth line"
   ]
  },
  {
   "cell_type": "code",
   "execution_count": 14,
   "id": "7c785357",
   "metadata": {},
   "outputs": [],
   "source": [
    "myfile = open(\"myfile.txt\")"
   ]
  },
  {
   "cell_type": "code",
   "execution_count": 15,
   "id": "0bf1b848",
   "metadata": {},
   "outputs": [
    {
     "data": {
      "text/plain": [
       "'C:\\\\Users\\\\dhanu\\\\MyPythonStuff'"
      ]
     },
     "execution_count": 15,
     "metadata": {},
     "output_type": "execute_result"
    }
   ],
   "source": [
    "pwd"
   ]
  },
  {
   "cell_type": "code",
   "execution_count": 16,
   "id": "d6565d96",
   "metadata": {},
   "outputs": [],
   "source": [
    "hey = open(\"myfile.txt\")"
   ]
  },
  {
   "cell_type": "code",
   "execution_count": 17,
   "id": "5e039856",
   "metadata": {},
   "outputs": [
    {
     "data": {
      "text/plain": [
       "'Hello this a text file \\nthis is a second line \\nthis is a third line\\nthis is a fourth line\\n'"
      ]
     },
     "execution_count": 17,
     "metadata": {},
     "output_type": "execute_result"
    }
   ],
   "source": [
    "hey.read()"
   ]
  },
  {
   "cell_type": "code",
   "execution_count": 18,
   "id": "a712d3a9",
   "metadata": {},
   "outputs": [
    {
     "data": {
      "text/plain": [
       "''"
      ]
     },
     "execution_count": 18,
     "metadata": {},
     "output_type": "execute_result"
    }
   ],
   "source": [
    "hey.read() #the cursor  will goes to end of the sentences so we want to reset and we have to read"
   ]
  },
  {
   "cell_type": "code",
   "execution_count": 19,
   "id": "624e282e",
   "metadata": {},
   "outputs": [
    {
     "data": {
      "text/plain": [
       "0"
      ]
     },
     "execution_count": 19,
     "metadata": {},
     "output_type": "execute_result"
    }
   ],
   "source": [
    "hey.seek(0)"
   ]
  },
  {
   "cell_type": "code",
   "execution_count": 20,
   "id": "be7f9b82",
   "metadata": {},
   "outputs": [
    {
     "data": {
      "text/plain": [
       "'Hello this a text file \\nthis is a second line \\nthis is a third line\\nthis is a fourth line\\n'"
      ]
     },
     "execution_count": 20,
     "metadata": {},
     "output_type": "execute_result"
    }
   ],
   "source": [
    "hey.read()\n"
   ]
  },
  {
   "cell_type": "code",
   "execution_count": 21,
   "id": "cc6bbe32",
   "metadata": {},
   "outputs": [
    {
     "data": {
      "text/plain": [
       "''"
      ]
     },
     "execution_count": 21,
     "metadata": {},
     "output_type": "execute_result"
    }
   ],
   "source": [
    "hey.read()"
   ]
  },
  {
   "cell_type": "code",
   "execution_count": 22,
   "id": "cb2ce237",
   "metadata": {},
   "outputs": [
    {
     "data": {
      "text/plain": [
       "0"
      ]
     },
     "execution_count": 22,
     "metadata": {},
     "output_type": "execute_result"
    }
   ],
   "source": [
    "hey.seek(0)"
   ]
  },
  {
   "cell_type": "code",
   "execution_count": 23,
   "id": "1fc629b6",
   "metadata": {},
   "outputs": [
    {
     "data": {
      "text/plain": [
       "['Hello this a text file \\n',\n",
       " 'this is a second line \\n',\n",
       " 'this is a third line\\n',\n",
       " 'this is a fourth line\\n']"
      ]
     },
     "execution_count": 23,
     "metadata": {},
     "output_type": "execute_result"
    }
   ],
   "source": [
    "hey.readlines()"
   ]
  },
  {
   "cell_type": "code",
   "execution_count": 24,
   "id": "5494d113",
   "metadata": {},
   "outputs": [],
   "source": [
    "contents = hey.readlines()"
   ]
  },
  {
   "cell_type": "code",
   "execution_count": 25,
   "id": "1b623944",
   "metadata": {},
   "outputs": [
    {
     "data": {
      "text/plain": [
       "[]"
      ]
     },
     "execution_count": 25,
     "metadata": {},
     "output_type": "execute_result"
    }
   ],
   "source": [
    "contents"
   ]
  },
  {
   "cell_type": "code",
   "execution_count": 26,
   "id": "92749f21",
   "metadata": {},
   "outputs": [
    {
     "data": {
      "text/plain": [
       "0"
      ]
     },
     "execution_count": 26,
     "metadata": {},
     "output_type": "execute_result"
    }
   ],
   "source": [
    "hey.seek(0)"
   ]
  },
  {
   "cell_type": "code",
   "execution_count": 27,
   "id": "3bd075e4",
   "metadata": {},
   "outputs": [],
   "source": [
    "contents = hey.readlines()"
   ]
  },
  {
   "cell_type": "code",
   "execution_count": 28,
   "id": "c917cb9f",
   "metadata": {},
   "outputs": [
    {
     "data": {
      "text/plain": [
       "['Hello this a text file \\n',\n",
       " 'this is a second line \\n',\n",
       " 'this is a third line\\n',\n",
       " 'this is a fourth line\\n']"
      ]
     },
     "execution_count": 28,
     "metadata": {},
     "output_type": "execute_result"
    }
   ],
   "source": [
    "contents"
   ]
  },
  {
   "cell_type": "markdown",
   "id": "b3279998",
   "metadata": {},
   "source": [
    "File Locations:-\n",
    "--------------------\n",
    "\n",
    "if want to open files at another location on your computer, simply pass in the entire file path.\n",
    "\n",
    "For windoes you need to double \\\\ so python doesn't treat the second \\ as an escape character ,a file path is in the form:\n",
    "\n",
    "myfile = open(\"c:\\\\users\\\\username\\\\Folder\\\\test.txt\")"
   ]
  },
  {
   "cell_type": "code",
   "execution_count": 29,
   "id": "04d243a7",
   "metadata": {},
   "outputs": [
    {
     "data": {
      "text/plain": [
       "'C:\\\\Users\\\\dhanu\\\\MyPythonStuff'"
      ]
     },
     "execution_count": 29,
     "metadata": {},
     "output_type": "execute_result"
    }
   ],
   "source": [
    "pwd\n"
   ]
  },
  {
   "cell_type": "code",
   "execution_count": 30,
   "id": "74311d4c",
   "metadata": {},
   "outputs": [],
   "source": [
    "hey.close()"
   ]
  },
  {
   "cell_type": "code",
   "execution_count": 39,
   "id": "9d968bed",
   "metadata": {},
   "outputs": [
    {
     "name": "stdout",
     "output_type": "stream",
     "text": [
      "['Hello this a text file \\n', 'this is a second line \\n', 'this is a third line\\n', 'this is a fourth line\\n']\n"
     ]
    }
   ],
   "source": [
    "with open(\"myfile.txt\") as my_new_file:\n",
    "   \n",
    "    contents = my_new_file.readlines() \n",
    "    print(contents)#no need to close the file when we use with!!"
   ]
  },
  {
   "cell_type": "code",
   "execution_count": null,
   "id": "ab4b5b38",
   "metadata": {},
   "outputs": [],
   "source": []
  },
  {
   "cell_type": "code",
   "execution_count": 40,
   "id": "2878b9a6",
   "metadata": {},
   "outputs": [],
   "source": [
    "with open(\"myfile.txt\", mode='r') as myfile:\n",
    "    contents = myfile.readlines()  \n",
    "#To overwrite a filesss"
   ]
  },
  {
   "cell_type": "code",
   "execution_count": null,
   "id": "cd2037d6",
   "metadata": {},
   "outputs": [],
   "source": []
  },
  {
   "cell_type": "markdown",
   "id": "9e87eb18",
   "metadata": {},
   "source": [
    "READING, WRITING, APPENDING MODES:-\n",
    "-----------\n",
    "*mode='r' is read only\n",
    "*mode='w' is write only(will overwrite files or create new!)\n",
    "*mode='a' is append only(will add on to files)\n",
    "*mode='r+' is reading and writing\n",
    "*mode='w+' is writing and reading (overwrite existiing files or create a new files!)"
   ]
  },
  {
   "cell_type": "code",
   "execution_count": 41,
   "id": "e0abd000",
   "metadata": {},
   "outputs": [
    {
     "name": "stdout",
     "output_type": "stream",
     "text": [
      "Overwriting my_new_file.txt\n"
     ]
    }
   ],
   "source": [
    "%%writefile my_new_file.txt\n",
    "IM ON FIRST LINE\n",
    "IM ON SENCOND LINE\n",
    "IM ON THIRD LINE"
   ]
  },
  {
   "cell_type": "code",
   "execution_count": 42,
   "id": "77d311e3",
   "metadata": {},
   "outputs": [
    {
     "name": "stdout",
     "output_type": "stream",
     "text": [
      "['IM ON FIRST LINE\\n', 'IM ON SENCOND LINE\\n', 'IM ON THIRD LINE\\n']\n"
     ]
    }
   ],
   "source": [
    "with open('my_new_file.txt') as f:\n",
    "    print(f.readlines())"
   ]
  },
  {
   "cell_type": "code",
   "execution_count": 43,
   "id": "14305f9e",
   "metadata": {},
   "outputs": [
    {
     "name": "stdout",
     "output_type": "stream",
     "text": [
      "IM ON FIRST LINE\n",
      "IM ON SENCOND LINE\n",
      "IM ON THIRD LINE\n",
      "\n"
     ]
    }
   ],
   "source": [
    "with open('my_new_file.txt') as f:\n",
    "    print(f.read())"
   ]
  },
  {
   "cell_type": "code",
   "execution_count": 44,
   "id": "e1a3b31d",
   "metadata": {},
   "outputs": [
    {
     "name": "stdout",
     "output_type": "stream",
     "text": [
      "IM ON FIRST LINE\n",
      "IM ON SENCOND LINE\n",
      "IM ON THIRD LINE\n",
      "\n"
     ]
    }
   ],
   "source": [
    "with open(\"my_new_file.txt\",mode='r') as f:\n",
    "    print(f.read())"
   ]
  },
  {
   "cell_type": "code",
   "execution_count": 46,
   "id": "f23462ab",
   "metadata": {},
   "outputs": [],
   "source": [
    "with open(\"my_new_file.txt\",mode='a') as f:\n",
    "    f.write(\"IM ON FOURTH LINE\")"
   ]
  },
  {
   "cell_type": "code",
   "execution_count": 47,
   "id": "08a774b0",
   "metadata": {},
   "outputs": [
    {
     "name": "stdout",
     "output_type": "stream",
     "text": [
      "IM ON FIRST LINE\n",
      "IM ON SENCOND LINE\n",
      "IM ON THIRD LINE\n",
      "IM ON FOURTH LINE\n"
     ]
    }
   ],
   "source": [
    "with open(\"my_new_file.txt\",mode='r') as f:\n",
    "    print(f.read())"
   ]
  },
  {
   "cell_type": "code",
   "execution_count": 42,
   "id": "44bbf9a3",
   "metadata": {},
   "outputs": [],
   "source": [
    "with open(\"helooo.txt\",mode='w') as f:\n",
    "    f.write('I CREATEAD A NEW FILE')\n",
    "    "
   ]
  },
  {
   "cell_type": "code",
   "execution_count": 43,
   "id": "d4815cf0",
   "metadata": {},
   "outputs": [
    {
     "name": "stdout",
     "output_type": "stream",
     "text": [
      "['I CREATEAD A NEW FILE']\n"
     ]
    }
   ],
   "source": [
    "with open(\"helooo.txt\",mode='r') as f:\n",
    "    print(f.readlines())"
   ]
  },
  {
   "cell_type": "code",
   "execution_count": 1,
   "id": "0df2a177",
   "metadata": {},
   "outputs": [
    {
     "name": "stdout",
     "output_type": "stream",
     "text": [
      "['False', 'None', 'True', 'and', 'as', 'assert', 'async', 'await', 'break', 'class', 'continue', 'def', 'del', 'elif', 'else', 'except', 'finally', 'for', 'from', 'global', 'if', 'import', 'in', 'is', 'lambda', 'nonlocal', 'not', 'or', 'pass', 'raise', 'return', 'try', 'while', 'with', 'yield']\n"
     ]
    }
   ],
   "source": [
    "import keyword\n",
    "print(keyword.kwlist)"
   ]
  },
  {
   "cell_type": "code",
   "execution_count": null,
   "id": "cdc9cc99",
   "metadata": {},
   "outputs": [],
   "source": []
  }
 ],
 "metadata": {
  "kernelspec": {
   "display_name": "Python 3 (ipykernel)",
   "language": "python",
   "name": "python3"
  },
  "language_info": {
   "codemirror_mode": {
    "name": "ipython",
    "version": 3
   },
   "file_extension": ".py",
   "mimetype": "text/x-python",
   "name": "python",
   "nbconvert_exporter": "python",
   "pygments_lexer": "ipython3",
   "version": "3.11.5"
  }
 },
 "nbformat": 4,
 "nbformat_minor": 5
}
