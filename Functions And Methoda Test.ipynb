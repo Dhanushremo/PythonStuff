{
 "cells": [
  {
   "cell_type": "code",
   "execution_count": 1,
   "id": "e66b5378",
   "metadata": {},
   "outputs": [],
   "source": [
    "#Functions and Methods Homework Solutions\n",
    "#Write a function that computes the volume of a sphere given its radius.\n",
    "\n",
    "def vol(rad):\n",
    "    return (4/3)*(3.14)*(rad**3)"
   ]
  },
  {
   "cell_type": "code",
   "execution_count": 2,
   "id": "e083c98f",
   "metadata": {},
   "outputs": [
    {
     "data": {
      "text/plain": [
       "33.49333333333333"
      ]
     },
     "execution_count": 2,
     "metadata": {},
     "output_type": "execute_result"
    }
   ],
   "source": [
    "vol(2)"
   ]
  },
  {
   "cell_type": "code",
   "execution_count": 3,
   "id": "eb6abde7",
   "metadata": {},
   "outputs": [
    {
     "data": {
      "text/plain": [
       "523.3333333333334"
      ]
     },
     "execution_count": 3,
     "metadata": {},
     "output_type": "execute_result"
    }
   ],
   "source": [
    "vol(5)"
   ]
  },
  {
   "cell_type": "code",
   "execution_count": 4,
   "id": "1a8a622b",
   "metadata": {},
   "outputs": [
    {
     "data": {
      "text/plain": [
       "523.3333333333334"
      ]
     },
     "execution_count": 4,
     "metadata": {},
     "output_type": "execute_result"
    }
   ],
   "source": [
    "vol(5)"
   ]
  },
  {
   "cell_type": "code",
   "execution_count": 5,
   "id": "2e0c7064",
   "metadata": {},
   "outputs": [
    {
     "data": {
      "text/plain": [
       "4.1866666666666665"
      ]
     },
     "execution_count": 5,
     "metadata": {},
     "output_type": "execute_result"
    }
   ],
   "source": [
    "vol(1)"
   ]
  },
  {
   "cell_type": "code",
   "execution_count": 6,
   "id": "bb94e4e4",
   "metadata": {},
   "outputs": [],
   "source": [
    "\n",
    "#Write a function that checks whether a number is in a given range (inclusive of high and low)\n",
    "def hai(num,low,high):\n",
    "    return num in range(low,high+1)"
   ]
  },
  {
   "cell_type": "code",
   "execution_count": 7,
   "id": "27437b17",
   "metadata": {},
   "outputs": [
    {
     "data": {
      "text/plain": [
       "True"
      ]
     },
     "execution_count": 7,
     "metadata": {},
     "output_type": "execute_result"
    }
   ],
   "source": [
    "hai(5,2,7)"
   ]
  },
  {
   "cell_type": "code",
   "execution_count": 8,
   "id": "aa3f5105",
   "metadata": {},
   "outputs": [],
   "source": [
    "def hai2(num,low,high):\n",
    "    if num in range(low,high+1):\n",
    "        print(f'the {num} is in {low} and {high}')\n",
    "    else:\n",
    "        print(f'the {num} is in {low} and {high}')"
   ]
  },
  {
   "cell_type": "code",
   "execution_count": 9,
   "id": "6fecfb53",
   "metadata": {},
   "outputs": [
    {
     "name": "stdout",
     "output_type": "stream",
     "text": [
      "the 5 is in 2 and 7\n"
     ]
    }
   ],
   "source": [
    "hai2(5,2,7)"
   ]
  },
  {
   "cell_type": "code",
   "execution_count": 10,
   "id": "5a4e0ebf",
   "metadata": {},
   "outputs": [],
   "source": [
    "\n",
    "#Write a Python function that accepts a string and calculates the number of upper case letters and lower case letters.\n",
    "\n",
    "#Sample String : 'Hello Mr. Rogers, how are you this fine Tuesday?'\n",
    "#Expected Output : \n",
    "#No. of Upper case characters : 4\n",
    "#No. of Lower case Characters : 33\n",
    "\n",
    "def low_upper(string):\n",
    "    \n",
    "    lower_case = 0\n",
    "    upper_case = 0\n",
    "    \n",
    "    for char in string:\n",
    "        if char.isupper():\n",
    "            upper_case +=1\n",
    "        elif char.islower():\n",
    "            lower_case +=1\n",
    "        else:\n",
    "            pass\n",
    "    print(f'The original string is {string}')\n",
    "    print(f'No.Of uppercases are {upper_case}')\n",
    "    print(f'No.of loswercases are {lower_case}')"
   ]
  },
  {
   "cell_type": "code",
   "execution_count": 11,
   "id": "1085deeb",
   "metadata": {},
   "outputs": [
    {
     "name": "stdout",
     "output_type": "stream",
     "text": [
      "The original string is Hai Welcome to Dhanush Home \n",
      "No.Of uppercases are 4\n",
      "No.of loswercases are 19\n"
     ]
    }
   ],
   "source": [
    "low_upper('Hai Welcome to Dhanush Home ')"
   ]
  },
  {
   "cell_type": "code",
   "execution_count": 12,
   "id": "13f6e81e",
   "metadata": {},
   "outputs": [],
   "source": [
    "def up_low(s):\n",
    "    d={\"upper\":0, \"lower\":0}\n",
    "    for c in s:\n",
    "        if c.isupper():\n",
    "            d[\"upper\"]+=1\n",
    "        elif c.islower():\n",
    "            d[\"lower\"]+=1\n",
    "        else:\n",
    "            pass\n",
    "    print(\"Original String : \", s)\n",
    "    print(\"No. of Upper case characters : \", d[\"upper\"])\n",
    "    print(\"No. of Lower case Characters : \", d[\"lower\"])"
   ]
  },
  {
   "cell_type": "code",
   "execution_count": 13,
   "id": "d7878d9a",
   "metadata": {},
   "outputs": [
    {
     "name": "stdout",
     "output_type": "stream",
     "text": [
      "Original String :  Hai Welcome to Dhanush Home \n",
      "No. of Upper case characters :  4\n",
      "No. of Lower case Characters :  19\n"
     ]
    }
   ],
   "source": [
    "up_low('Hai Welcome to Dhanush Home ')"
   ]
  },
  {
   "cell_type": "code",
   "execution_count": 34,
   "id": "30712d54",
   "metadata": {},
   "outputs": [],
   "source": [
    "\n",
    "#Write a Python function that takes a list and returns a new list with unique elements of the first list.\n",
    "\n",
    "#Sample List : [1,1,1,1,2,2,3,3,3,3,4,5]\n",
    "#Unique List : [1, 2, 3, 4, 5]\n",
    "\n",
    "def helo(lst):\n",
    "    seen_numbers = []\n",
    "    for num in lst:\n",
    "        if num not in seen_numbers:\n",
    "            seen_numbers.append(num)\n",
    "        else:\n",
    "            pass\n",
    "    return seen_numbers"
   ]
  },
  {
   "cell_type": "code",
   "execution_count": 35,
   "id": "424ac587",
   "metadata": {},
   "outputs": [
    {
     "data": {
      "text/plain": [
       "[1, 2, 3, 4, 5, 6]"
      ]
     },
     "execution_count": 35,
     "metadata": {},
     "output_type": "execute_result"
    }
   ],
   "source": [
    "helo([1,1,1,1,2,3,4,5,6,6,5,4,3,3,2,2,1])"
   ]
  },
  {
   "cell_type": "code",
   "execution_count": null,
   "id": "f8c874d7",
   "metadata": {},
   "outputs": [],
   "source": []
  },
  {
   "cell_type": "code",
   "execution_count": 36,
   "id": "bade548d",
   "metadata": {},
   "outputs": [],
   "source": [
    "def hai(num):\n",
    "    return list(set(num))"
   ]
  },
  {
   "cell_type": "code",
   "execution_count": 37,
   "id": "5f4a2631",
   "metadata": {},
   "outputs": [],
   "source": [
    "hai([1,1,1,2,2,3,3,])"
   ]
  },
  {
   "cell_type": "code",
   "execution_count": 38,
   "id": "f6813ed3",
   "metadata": {},
   "outputs": [],
   "source": [
    "\n",
    "#Write a Python function to multiply all the numbers in a list.\n",
    "\n",
    "#Sample List : [1, 2, 3, -4]\n",
    "#Expected Output : -24\n",
    "\n",
    "\n",
    "def list(numbers):\n",
    "    total = 1\n",
    "    for iteam in numbers:\n",
    "        total *= iteam\n",
    "    return total"
   ]
  },
  {
   "cell_type": "code",
   "execution_count": 41,
   "id": "4bf17a64",
   "metadata": {},
   "outputs": [
    {
     "data": {
      "text/plain": [
       "-24"
      ]
     },
     "execution_count": 41,
     "metadata": {},
     "output_type": "execute_result"
    }
   ],
   "source": [
    "list([1,2,3,-4])"
   ]
  },
  {
   "cell_type": "code",
   "execution_count": 46,
   "id": "cd48a63e",
   "metadata": {},
   "outputs": [],
   "source": [
    "\n",
    "#Write a Python function that checks whether a word or phrase is palindrome or not.\n",
    "\n",
    "#Note: A palindrome is word, phrase, or sequence that reads the same backward as forward, e.g., madam,kayak,racecar, or a phrase \"nurses run\". Hint: You may want to check out the .replace() method in a string to help out with dealing with spaces. Also google search how to reverse a string in Python, there are some clever ways to do it with slicing notati\n",
    "\n",
    "\n",
    "\n",
    "def palindrome(s):\n",
    "    #remove spaces in string\n",
    "    s = s.replace(' ','')\n",
    "    #check is string is == reversed version of the string\n",
    "    result = s[::-1]\n",
    "    \n",
    "    return result"
   ]
  },
  {
   "cell_type": "code",
   "execution_count": 48,
   "id": "54835a61",
   "metadata": {},
   "outputs": [
    {
     "data": {
      "text/plain": [
       "'iahmadam'"
      ]
     },
     "execution_count": 48,
     "metadata": {},
     "output_type": "execute_result"
    }
   ],
   "source": [
    "palindrome('madam hai')"
   ]
  },
  {
   "cell_type": "code",
   "execution_count": 49,
   "id": "6eeeb7fa",
   "metadata": {},
   "outputs": [
    {
     "data": {
      "text/plain": [
       "'racecar'"
      ]
     },
     "execution_count": 49,
     "metadata": {},
     "output_type": "execute_result"
    }
   ],
   "source": [
    "palindrome('racecar')"
   ]
  },
  {
   "cell_type": "code",
   "execution_count": 53,
   "id": "79d3dd2b",
   "metadata": {},
   "outputs": [],
   "source": [
    "#Hard:\n",
    "#Write a Python function to check whether a string is pangram or not. (Assume the string passed in does not have any punctuation)\n",
    "\n",
    "#Note : Pangrams are words or sentences containing every letter of the alphabet at least once.\n",
    "#For example : \"The quick brown fox jumps over the lazy dog\"\n",
    "#Hint: You may want to use .replace() method to get rid of spaces.\n",
    "\n",
    "#Hint: Look at the string module\n",
    "\n",
    "#Hint: In case you want to use set comparisons\n",
    "\n",
    "import string\n",
    "\n",
    "def pangram(str,alphabet=string.ascii_lowercase):\n",
    "    #creating a set of alphabet\n",
    "    alphaset = set(alphabet)\n",
    "    #removing the spaces from the string\n",
    "    str = str.replace(' ','')\n",
    "    #covert into all lowercase\n",
    "    str = str.lowercase()\n",
    "    #grab all unique letters\n",
    "    str = set(Str)\n",
    "    #alphabet set == string set input\n",
    "    return str == alphabet"
   ]
  },
  {
   "cell_type": "code",
   "execution_count": 54,
   "id": "4a142e99",
   "metadata": {},
   "outputs": [
    {
     "ename": "AttributeError",
     "evalue": "'str' object has no attribute 'lowercase'",
     "output_type": "error",
     "traceback": [
      "\u001b[1;31m---------------------------------------------------------------------------\u001b[0m",
      "\u001b[1;31mAttributeError\u001b[0m                            Traceback (most recent call last)",
      "Cell \u001b[1;32mIn[54], line 1\u001b[0m\n\u001b[1;32m----> 1\u001b[0m pangram(\u001b[38;5;124m'\u001b[39m\u001b[38;5;124mhai welocome to hoem\u001b[39m\u001b[38;5;124m'\u001b[39m)\n",
      "Cell \u001b[1;32mIn[53], line 20\u001b[0m, in \u001b[0;36mpangram\u001b[1;34m(str, alphabet)\u001b[0m\n\u001b[0;32m     18\u001b[0m \u001b[38;5;28mstr\u001b[39m \u001b[38;5;241m=\u001b[39m \u001b[38;5;28mstr\u001b[39m\u001b[38;5;241m.\u001b[39mreplace(\u001b[38;5;124m'\u001b[39m\u001b[38;5;124m \u001b[39m\u001b[38;5;124m'\u001b[39m,\u001b[38;5;124m'\u001b[39m\u001b[38;5;124m'\u001b[39m)\n\u001b[0;32m     19\u001b[0m \u001b[38;5;66;03m#covert into all lowercase\u001b[39;00m\n\u001b[1;32m---> 20\u001b[0m \u001b[38;5;28mstr\u001b[39m \u001b[38;5;241m=\u001b[39m \u001b[38;5;28mstr\u001b[39m\u001b[38;5;241m.\u001b[39mlowercase()\n\u001b[0;32m     21\u001b[0m \u001b[38;5;66;03m#grab all unique letters\u001b[39;00m\n\u001b[0;32m     22\u001b[0m \u001b[38;5;28mstr\u001b[39m \u001b[38;5;241m=\u001b[39m \u001b[38;5;28mset\u001b[39m(Str)\n",
      "\u001b[1;31mAttributeError\u001b[0m: 'str' object has no attribute 'lowercase'"
     ]
    }
   ],
   "source": [
    "pangram('hai welocome to hoem')"
   ]
  },
  {
   "cell_type": "code",
   "execution_count": 56,
   "id": "aa704a69",
   "metadata": {},
   "outputs": [],
   "source": [
    "import string\n",
    "\n",
    "def ispangram(str1, alphabet=string.ascii_lowercase): \n",
    "    # Create a set of the alphabet\n",
    "    alphaset = set(alphabet)  \n",
    "    \n",
    "    # Remove spaces from str1\n",
    "    str1 = str1.replace(\" \",'')\n",
    "    \n",
    "    # Lowercase all strings in the passed in string\n",
    "    # Recall we assume no punctuation \n",
    "    str1 = str1.lower()\n",
    "    \n",
    "    # Grab all unique letters in the string as a set\n",
    "    str1 = set(str1)\n",
    "    \n",
    "    # Now check that the alpahbet set is same as string set\n",
    "    return str1 == alphaset"
   ]
  },
  {
   "cell_type": "code",
   "execution_count": 57,
   "id": "a08fa2a0",
   "metadata": {},
   "outputs": [
    {
     "data": {
      "text/plain": [
       "True"
      ]
     },
     "execution_count": 57,
     "metadata": {},
     "output_type": "execute_result"
    }
   ],
   "source": [
    "ispangram(\"The quick brown fox jumps over the lazy dog\")"
   ]
  },
  {
   "cell_type": "code",
   "execution_count": 58,
   "id": "125bea23",
   "metadata": {},
   "outputs": [],
   "source": [
    "lst = [1,2,3]"
   ]
  },
  {
   "cell_type": "code",
   "execution_count": 59,
   "id": "baa573cb",
   "metadata": {},
   "outputs": [
    {
     "ename": "TypeError",
     "evalue": "can only concatenate list (not \"int\") to list",
     "output_type": "error",
     "traceback": [
      "\u001b[1;31m---------------------------------------------------------------------------\u001b[0m",
      "\u001b[1;31mTypeError\u001b[0m                                 Traceback (most recent call last)",
      "Cell \u001b[1;32mIn[59], line 1\u001b[0m\n\u001b[1;32m----> 1\u001b[0m lst \u001b[38;5;241m=\u001b[39m lst\u001b[38;5;241m+\u001b[39m\u001b[38;5;241m1\u001b[39m\n",
      "\u001b[1;31mTypeError\u001b[0m: can only concatenate list (not \"int\") to list"
     ]
    }
   ],
   "source": [
    "lst = lst+1"
   ]
  },
  {
   "cell_type": "code",
   "execution_count": 60,
   "id": "173c18f2",
   "metadata": {},
   "outputs": [
    {
     "ename": "TypeError",
     "evalue": "can only concatenate list (not \"int\") to list",
     "output_type": "error",
     "traceback": [
      "\u001b[1;31m---------------------------------------------------------------------------\u001b[0m",
      "\u001b[1;31mTypeError\u001b[0m                                 Traceback (most recent call last)",
      "Cell \u001b[1;32mIn[60], line 2\u001b[0m\n\u001b[0;32m      1\u001b[0m lst \u001b[38;5;241m=\u001b[39m [\u001b[38;5;241m1\u001b[39m,\u001b[38;5;241m2\u001b[39m,\u001b[38;5;241m3\u001b[39m]\n\u001b[1;32m----> 2\u001b[0m lst1 \u001b[38;5;241m=\u001b[39m lst\u001b[38;5;241m+\u001b[39m\u001b[38;5;241m1\u001b[39m\n\u001b[0;32m      3\u001b[0m lst2 \u001b[38;5;241m=\u001b[39m lst\u001b[38;5;241m-\u001b[39m\u001b[38;5;241m1\u001b[39m\n\u001b[0;32m      4\u001b[0m \u001b[38;5;28mprint\u001b[39m(lst1)\n",
      "\u001b[1;31mTypeError\u001b[0m: can only concatenate list (not \"int\") to list"
     ]
    }
   ],
   "source": [
    "lst = [1,2,3]\n",
    "lst1 = lst+1\n",
    "lst2 = lst-1\n",
    "print(lst1)\n",
    "print(lst2)"
   ]
  },
  {
   "cell_type": "code",
   "execution_count": null,
   "id": "53a9955b",
   "metadata": {},
   "outputs": [],
   "source": []
  }
 ],
 "metadata": {
  "kernelspec": {
   "display_name": "Python 3 (ipykernel)",
   "language": "python",
   "name": "python3"
  },
  "language_info": {
   "codemirror_mode": {
    "name": "ipython",
    "version": 3
   },
   "file_extension": ".py",
   "mimetype": "text/x-python",
   "name": "python",
   "nbconvert_exporter": "python",
   "pygments_lexer": "ipython3",
   "version": "3.11.5"
  }
 },
 "nbformat": 4,
 "nbformat_minor": 5
}
