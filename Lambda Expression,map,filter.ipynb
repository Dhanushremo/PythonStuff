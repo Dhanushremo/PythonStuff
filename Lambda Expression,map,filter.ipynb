{
 "cells": [
  {
   "cell_type": "markdown",
   "id": "1bbc2734",
   "metadata": {},
   "source": [
    "map()\n",
    "map(func, *iterables) --> map object\n",
    "\n",
    "Make an iterator that computes the function using arguments from\n",
    "each of the iterables.  Stops when the shortest iterable is exhausted.\n",
    "Type:           type\n",
    "Subclasses:     "
   ]
  },
  {
   "cell_type": "code",
   "execution_count": 6,
   "id": "cf572819",
   "metadata": {},
   "outputs": [],
   "source": [
    "def square(num):\n",
    "    \n",
    "    return num**2"
   ]
  },
  {
   "cell_type": "code",
   "execution_count": 7,
   "id": "6a2776fe",
   "metadata": {},
   "outputs": [],
   "source": [
    "my_num = [1,2,3,4,5,6,7,8,9,10]"
   ]
  },
  {
   "cell_type": "code",
   "execution_count": 8,
   "id": "1f0c2342",
   "metadata": {},
   "outputs": [
    {
     "data": {
      "text/plain": [
       "<map at 0x2060cc7d9c0>"
      ]
     },
     "execution_count": 8,
     "metadata": {},
     "output_type": "execute_result"
    }
   ],
   "source": [
    "map(square,my_num)"
   ]
  },
  {
   "cell_type": "code",
   "execution_count": 11,
   "id": "3fa78ec9",
   "metadata": {},
   "outputs": [
    {
     "name": "stdout",
     "output_type": "stream",
     "text": [
      "1\n",
      "4\n",
      "9\n",
      "16\n",
      "25\n",
      "36\n",
      "49\n",
      "64\n",
      "81\n",
      "100\n"
     ]
    }
   ],
   "source": [
    "for iteam in map(square,my_num):\n",
    "    print(iteam)"
   ]
  },
  {
   "cell_type": "code",
   "execution_count": 16,
   "id": "71785da2",
   "metadata": {},
   "outputs": [],
   "source": [
    "def heloo(text):\n",
    "    if len(text)%2==0:\n",
    "        return 'EVEN'\n",
    "    else:\n",
    "        return text[0]"
   ]
  },
  {
   "cell_type": "code",
   "execution_count": 17,
   "id": "3b24ff01",
   "metadata": {},
   "outputs": [],
   "source": [
    "my_text = ['Dhanush','Remo','Naanu','Jd']"
   ]
  },
  {
   "cell_type": "code",
   "execution_count": 18,
   "id": "9963482c",
   "metadata": {},
   "outputs": [
    {
     "name": "stdout",
     "output_type": "stream",
     "text": [
      "Dhanush\n",
      "Remo\n",
      "Naanu\n",
      "Jd\n"
     ]
    }
   ],
   "source": [
    "for iteam in my_text:\n",
    "    print(iteam)"
   ]
  },
  {
   "cell_type": "code",
   "execution_count": 19,
   "id": "edf1a419",
   "metadata": {},
   "outputs": [
    {
     "name": "stdout",
     "output_type": "stream",
     "text": [
      "D\n",
      "EVEN\n",
      "N\n",
      "EVEN\n"
     ]
    }
   ],
   "source": [
    "for i in map(heloo,my_text):\n",
    "    print(i)"
   ]
  },
  {
   "cell_type": "code",
   "execution_count": 20,
   "id": "65e6e6fe",
   "metadata": {},
   "outputs": [
    {
     "data": {
      "text/plain": [
       "['D', 'EVEN', 'N', 'EVEN']"
      ]
     },
     "execution_count": 20,
     "metadata": {},
     "output_type": "execute_result"
    }
   ],
   "source": [
    "list(map(heloo,my_text))"
   ]
  },
  {
   "cell_type": "code",
   "execution_count": 21,
   "id": "a940afc6",
   "metadata": {},
   "outputs": [
    {
     "data": {
      "text/plain": [
       "[1, 4, 9, 16, 25, 36, 49, 64, 81, 100]"
      ]
     },
     "execution_count": 21,
     "metadata": {},
     "output_type": "execute_result"
    }
   ],
   "source": [
    "list(map(square,my_num))"
   ]
  },
  {
   "cell_type": "code",
   "execution_count": 22,
   "id": "218a68e9",
   "metadata": {},
   "outputs": [],
   "source": [
    "def check_even(num):\n",
    "    return num%2==0"
   ]
  },
  {
   "cell_type": "code",
   "execution_count": 23,
   "id": "229881f5",
   "metadata": {},
   "outputs": [],
   "source": [
    "my_num=[1,2,3,4,5,6,7,8,9,10]"
   ]
  },
  {
   "cell_type": "code",
   "execution_count": 25,
   "id": "61e437f1",
   "metadata": {},
   "outputs": [
    {
     "name": "stdout",
     "output_type": "stream",
     "text": [
      "2\n",
      "4\n",
      "6\n",
      "8\n",
      "10\n"
     ]
    }
   ],
   "source": [
    "for iteam in filter(check_even,my_num):\n",
    "    print(iteam)"
   ]
  },
  {
   "cell_type": "code",
   "execution_count": 26,
   "id": "db50ab09",
   "metadata": {},
   "outputs": [
    {
     "data": {
      "text/plain": [
       "[2, 4, 6, 8, 10]"
      ]
     },
     "execution_count": 26,
     "metadata": {},
     "output_type": "execute_result"
    }
   ],
   "source": [
    "list(filter(check_even,my_num))"
   ]
  },
  {
   "cell_type": "code",
   "execution_count": 30,
   "id": "44055915",
   "metadata": {},
   "outputs": [
    {
     "data": {
      "text/plain": [
       "<function __main__.<lambda>(num)>"
      ]
     },
     "execution_count": 30,
     "metadata": {},
     "output_type": "execute_result"
    }
   ],
   "source": [
    "lambda num:num**2"
   ]
  },
  {
   "cell_type": "code",
   "execution_count": 31,
   "id": "b00900c9",
   "metadata": {},
   "outputs": [
    {
     "data": {
      "text/plain": [
       "[1, 4, 9, 16, 25, 36, 49, 64, 81, 100]"
      ]
     },
     "execution_count": 31,
     "metadata": {},
     "output_type": "execute_result"
    }
   ],
   "source": [
    "list(map(lambda num:num**2,my_num))"
   ]
  },
  {
   "cell_type": "code",
   "execution_count": 32,
   "id": "d540d9f3",
   "metadata": {},
   "outputs": [
    {
     "data": {
      "text/plain": [
       "[2, 4, 6, 8, 10]"
      ]
     },
     "execution_count": 32,
     "metadata": {},
     "output_type": "execute_result"
    }
   ],
   "source": [
    "list(filter(lambda num:num%2==0,my_num))"
   ]
  },
  {
   "cell_type": "code",
   "execution_count": 34,
   "id": "26b95a4b",
   "metadata": {},
   "outputs": [
    {
     "data": {
      "text/plain": [
       "<function __main__.<lambda>(text)>"
      ]
     },
     "execution_count": 34,
     "metadata": {},
     "output_type": "execute_result"
    }
   ],
   "source": [
    "lambda text: text[0]"
   ]
  },
  {
   "cell_type": "code",
   "execution_count": 35,
   "id": "384c3ed2",
   "metadata": {},
   "outputs": [
    {
     "data": {
      "text/plain": [
       "['D', 'R', 'N', 'J']"
      ]
     },
     "execution_count": 35,
     "metadata": {},
     "output_type": "execute_result"
    }
   ],
   "source": [
    "list(map(lambda text:text[0],my_text))"
   ]
  },
  {
   "cell_type": "code",
   "execution_count": 36,
   "id": "15cf7e86",
   "metadata": {},
   "outputs": [
    {
     "data": {
      "text/plain": [
       "['hsunahD', 'omeR', 'unaaN', 'dJ']"
      ]
     },
     "execution_count": 36,
     "metadata": {},
     "output_type": "execute_result"
    }
   ],
   "source": [
    "list(map(lambda text:text[::-1],my_text))"
   ]
  },
  {
   "cell_type": "code",
   "execution_count": null,
   "id": "88787814",
   "metadata": {},
   "outputs": [],
   "source": []
  }
 ],
 "metadata": {
  "kernelspec": {
   "display_name": "Python 3 (ipykernel)",
   "language": "python",
   "name": "python3"
  },
  "language_info": {
   "codemirror_mode": {
    "name": "ipython",
    "version": 3
   },
   "file_extension": ".py",
   "mimetype": "text/x-python",
   "name": "python",
   "nbconvert_exporter": "python",
   "pygments_lexer": "ipython3",
   "version": "3.11.5"
  }
 },
 "nbformat": 4,
 "nbformat_minor": 5
}
