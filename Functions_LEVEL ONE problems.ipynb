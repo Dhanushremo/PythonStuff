{
 "cells": [
  {
   "cell_type": "code",
   "execution_count": 4,
   "id": "d80eb45c",
   "metadata": {},
   "outputs": [],
   "source": [
    "# LEVEL 1 PROBLEMS\n",
    "#OLD MACDONALD: Write a function that capitalizes the first and fourth letters of a name\n",
    " \n",
    "#old_macdonald('macdonald') --> MacDonald\n",
    "#Note: 'macdonald'.capitalize() returns 'Macdonald'\n",
    "\n",
    "def helo(name):\n",
    "    first_letter = name[0]\n",
    "    inbetween_letter = name[1:3]\n",
    "    fourth_letter = name[3]\n",
    "    rest = name[4:]\n",
    "    return first_letter.upper() + inbetween_letter + fourth_letter.upper() + rest"
   ]
  },
  {
   "cell_type": "code",
   "execution_count": 5,
   "id": "77f85dab",
   "metadata": {},
   "outputs": [
    {
     "data": {
      "text/plain": [
       "'MacDonald'"
      ]
     },
     "execution_count": 5,
     "metadata": {},
     "output_type": "execute_result"
    }
   ],
   "source": [
    "helo('macdonald')"
   ]
  },
  {
   "cell_type": "code",
   "execution_count": 8,
   "id": "3ee5c886",
   "metadata": {},
   "outputs": [],
   "source": [
    "def helo1(name):\n",
    "    first_half = name[:3]\n",
    "    second_half = name[3:]\n",
    "    return first_half.capitalize() + second_half.capitalize()"
   ]
  },
  {
   "cell_type": "code",
   "execution_count": 9,
   "id": "8cc4e008",
   "metadata": {},
   "outputs": [
    {
     "data": {
      "text/plain": [
       "'MacDonald'"
      ]
     },
     "execution_count": 9,
     "metadata": {},
     "output_type": "execute_result"
    }
   ],
   "source": [
    "helo1('macdonald')"
   ]
  },
  {
   "cell_type": "code",
   "execution_count": 18,
   "id": "840884b7",
   "metadata": {},
   "outputs": [],
   "source": [
    "#MASTER YODA: Given a sentence, return a sentence with the words reversed\n",
    "#master_yoda('I am home') --> 'home am I'\n",
    "#master_yoda('We are ready') --> 'ready are We'\n",
    "#Note: The .join() method may be useful here. The .join() method allows you to join together strings in a list with some connector string. For example, some uses of the .join() method:\n",
    "\n",
    "#>>> \"--\".join(['a','b','c'])\n",
    "#>>> 'a--b--c'\n",
    "#This means if you had a list of words you wanted to turn back into a sentence, you could just join them with a single space string:\n",
    "\n",
    "#>>> \" \".join(['Hello','world'])\n",
    "#>>> \"Hello world\"\n",
    "\n",
    "\n",
    "def helo(text):\n",
    "    word_list = text.split()\n",
    "    print( ' '.join(word_list))\n",
    "    "
   ]
  },
  {
   "cell_type": "code",
   "execution_count": 19,
   "id": "1d1f40f6",
   "metadata": {},
   "outputs": [
    {
     "name": "stdout",
     "output_type": "stream",
     "text": [
      "hai dhanush here\n"
     ]
    }
   ],
   "source": [
    "helo('hai dhanush here')"
   ]
  },
  {
   "cell_type": "code",
   "execution_count": 20,
   "id": "a5d9f147",
   "metadata": {},
   "outputs": [
    {
     "name": "stdout",
     "output_type": "stream",
     "text": [
      "we are ready\n"
     ]
    }
   ],
   "source": [
    "helo('we are ready')"
   ]
  },
  {
   "cell_type": "code",
   "execution_count": 21,
   "id": "44dacce1",
   "metadata": {},
   "outputs": [],
   "source": [
    "\n",
    "#ALMOST THERE: Given an integer n, return True if n is within 10 of either 100 or 200\n",
    "#almost_there(90) --> True\n",
    "#almost_there(104) --> True\n",
    "#almost_there(150) --> False\n",
    "#almost_there(209) --> True\n",
    "#NOTE: abs(num) returns the absolute value of a number\n",
    "\n",
    "def helo(n):\n",
    "    return (abs(100-n)<=10) or (abs(200-n)<=10)"
   ]
  },
  {
   "cell_type": "code",
   "execution_count": 22,
   "id": "682794ff",
   "metadata": {},
   "outputs": [
    {
     "data": {
      "text/plain": [
       "True"
      ]
     },
     "execution_count": 22,
     "metadata": {},
     "output_type": "execute_result"
    }
   ],
   "source": [
    "helo(90)"
   ]
  },
  {
   "cell_type": "code",
   "execution_count": 23,
   "id": "22007deb",
   "metadata": {},
   "outputs": [
    {
     "data": {
      "text/plain": [
       "True"
      ]
     },
     "execution_count": 23,
     "metadata": {},
     "output_type": "execute_result"
    }
   ],
   "source": [
    "helo(104)"
   ]
  },
  {
   "cell_type": "code",
   "execution_count": 24,
   "id": "2182bda4",
   "metadata": {},
   "outputs": [
    {
     "data": {
      "text/plain": [
       "False"
      ]
     },
     "execution_count": 24,
     "metadata": {},
     "output_type": "execute_result"
    }
   ],
   "source": [
    "helo(150)"
   ]
  },
  {
   "cell_type": "code",
   "execution_count": 25,
   "id": "1c790af0",
   "metadata": {},
   "outputs": [
    {
     "data": {
      "text/plain": [
       "True"
      ]
     },
     "execution_count": 25,
     "metadata": {},
     "output_type": "execute_result"
    }
   ],
   "source": [
    "helo(209)"
   ]
  },
  {
   "cell_type": "code",
   "execution_count": null,
   "id": "36c97530",
   "metadata": {},
   "outputs": [],
   "source": []
  }
 ],
 "metadata": {
  "kernelspec": {
   "display_name": "Python 3 (ipykernel)",
   "language": "python",
   "name": "python3"
  },
  "language_info": {
   "codemirror_mode": {
    "name": "ipython",
    "version": 3
   },
   "file_extension": ".py",
   "mimetype": "text/x-python",
   "name": "python",
   "nbconvert_exporter": "python",
   "pygments_lexer": "ipython3",
   "version": "3.11.5"
  }
 },
 "nbformat": 4,
 "nbformat_minor": 5
}
